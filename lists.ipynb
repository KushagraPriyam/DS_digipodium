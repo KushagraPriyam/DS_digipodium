{
 "cells": [
  {
   "cell_type": "markdown",
   "metadata": {},
   "source": [
    "### Lists\n",
    "    - create\n",
    "    -indexing and slicing\n",
    "    - methods\n",
    "    -comprehension"
   ]
  },
  {
   "cell_type": "code",
   "execution_count": 5,
   "metadata": {},
   "outputs": [
    {
     "name": "stdout",
     "output_type": "stream",
     "text": [
      "[1, 2, 3] <class 'list'>\n",
      "[12, 'mango', 32, 'apple'] <class 'list'>\n",
      "[[1, 2, 3], [4, 5, 6], [8, 9, 10]] <class 'list'> 3\n",
      "[5, 5, 5, 5, 5, 5, 5, 5, 5, 5]\n",
      "['v', 'e', 'r', 't', 'e', 'x']\n",
      "['welcome', 'to', 'python']\n"
     ]
    }
   ],
   "source": [
    "a=[1,2,3,]\n",
    "print(a,type(a))\n",
    "\n",
    "\n",
    "data=[12,'mango',32,'apple']\n",
    "print(data,type(data))\n",
    "\n",
    "\n",
    "nested_list=[[1,2,3],[4,5,6],[8,9,10]]\n",
    "print(nested_list,type(nested_list),len(nested_list))\n",
    "\n",
    "\n",
    "duplcated_list=[5]*10\n",
    "print(duplcated_list)\n",
    "\n",
    "\n",
    "print(list(\"vertex\"))\n",
    "\n",
    "\n",
    "print(\"welcome to python\".split())"
   ]
  },
  {
   "cell_type": "code",
   "execution_count": 6,
   "metadata": {},
   "outputs": [
    {
     "name": "stdout",
     "output_type": "stream",
     "text": [
      "first five [11, 12, 13, 14, 15]\n",
      "last five [16, 17, 18, 19, 20]\n",
      "reverse [20, 19, 18, 17, 16, 15, 14, 13, 12, 11]\n",
      "even [11, 13, 15, 17, 19]\n",
      "odd [12, 14, 16, 18, 20]\n",
      "list exculding first 2 and last 2 elemensts [18, 17, 16, 15, 14, 13]\n",
      "reverse list exculding first and last 2 elements [13, 14, 15, 16, 17, 18]\n"
     ]
    }
   ],
   "source": [
    "n=[11,12,13,14,15,16,17,18,19,20]\n",
    "print('first five',n[:5])   #slicing rules same as in strings\n",
    "print('last five',n[-5:])\n",
    "print('reverse',n[::-1])\n",
    "print('even',n[::2])\n",
    "print('odd',n[1::2])\n",
    "print('list exculding first 2 and last 2 elemensts',n[-3:1:-1])\n",
    "print('reverse list exculding first and last 2 elements',n[2:-2])"
   ]
  },
  {
   "cell_type": "code",
   "execution_count": 7,
   "metadata": {},
   "outputs": [
    {
     "data": {
      "text/plain": [
       "[15, 14, 13, 12, 11]"
      ]
     },
     "execution_count": 7,
     "metadata": {},
     "output_type": "execute_result"
    }
   ],
   "source": [
    "n[4::-1]"
   ]
  },
  {
   "cell_type": "code",
   "execution_count": 8,
   "metadata": {},
   "outputs": [
    {
     "name": "stdout",
     "output_type": "stream",
     "text": [
      "[11, 12, 13, 14, 15, 100, 17, 18, 19, 20]\n"
     ]
    }
   ],
   "source": [
    "n[5]=100    #lists are mutable dtype\n",
    "print(n)"
   ]
  },
  {
   "cell_type": "code",
   "execution_count": 9,
   "metadata": {},
   "outputs": [
    {
     "name": "stdout",
     "output_type": "stream",
     "text": [
      "['bullet train', 'inside out', 'star wars', 'planet of apes', 'kalki 2898 AD']\n"
     ]
    }
   ],
   "source": [
    "#.append(value)  used to add element to the last of the list\n",
    "movies=[]\n",
    "movies.append(\"bullet train\")\n",
    "movies.append(\"inside out\")\n",
    "movies.append(\"star wars\")\n",
    "movies.append(\"planet of apes\")\n",
    "movies.append(\"kalki 2898 AD\")\n",
    "\n",
    "print(movies)"
   ]
  },
  {
   "cell_type": "code",
   "execution_count": 10,
   "metadata": {},
   "outputs": [
    {
     "name": "stdout",
     "output_type": "stream",
     "text": [
      "['fast and furious', '2 fast and furious', 'fast4', 'fast and furies: tokyo drift', 'fast 5']\n"
     ]
    }
   ],
   "source": [
    "ff=[\"fast and furious\",'2 fast and furious','fast and furies: tokyo drift','fast 5']\n",
    "ff.insert(2,\"fast4\")\n",
    "print(ff)"
   ]
  },
  {
   "cell_type": "code",
   "execution_count": 11,
   "metadata": {},
   "outputs": [
    {
     "data": {
      "text/plain": [
       "[1, 2, 6, 3, 4, 5]"
      ]
     },
     "execution_count": 11,
     "metadata": {},
     "output_type": "execute_result"
    }
   ],
   "source": [
    "#insert(index,value) used to add value to the given index inside a list\n",
    "n=[1,2,3,4,5]\n",
    "n.insert(2,6)   \n",
    "n"
   ]
  },
  {
   "cell_type": "code",
   "execution_count": 12,
   "metadata": {},
   "outputs": [
    {
     "name": "stdout",
     "output_type": "stream",
     "text": [
      "[1, 2, 3, 4, 5, 6] [4, 5, 6, 7, 8, 9] [7, 8, 9, 7, 8, 9]\n"
     ]
    }
   ],
   "source": [
    "#.extend() useed to add another list to the given list\n",
    "l1=[1,2,3]\n",
    "l2=[4,5,6]\n",
    "l3=[7,8,9]\n",
    "l1.extend(l2)   #only 1 parameter\n",
    "l2.extend(l3)\n",
    "l3.extend(l3)\n",
    "print(l1,l2,l3)"
   ]
  },
  {
   "cell_type": "code",
   "execution_count": 13,
   "metadata": {},
   "outputs": [
    {
     "name": "stdout",
     "output_type": "stream",
     "text": [
      "[1, 2, 53, 5]\n"
     ]
    }
   ],
   "source": [
    "#.remove() used to remove given element from an array\n",
    "n=[1,2,53,5,3]\n",
    "n.remove(3) #pass an element as parameter that u want to remove \n",
    "print(n)"
   ]
  },
  {
   "cell_type": "code",
   "execution_count": 16,
   "metadata": {},
   "outputs": [
    {
     "ename": "ValueError",
     "evalue": "list.remove(x): x not in list",
     "output_type": "error",
     "traceback": [
      "\u001b[1;31m---------------------------------------------------------------------------\u001b[0m",
      "\u001b[1;31mValueError\u001b[0m                                Traceback (most recent call last)",
      "Cell \u001b[1;32mIn[16], line 1\u001b[0m\n\u001b[1;32m----> 1\u001b[0m n\u001b[38;5;241m.\u001b[39mremove(\u001b[38;5;241m34\u001b[39m)\n",
      "\u001b[1;31mValueError\u001b[0m: list.remove(x): x not in list"
     ]
    }
   ],
   "source": [
    "n.remove(34)    #returns error if given parameter is not in a list"
   ]
  },
  {
   "cell_type": "code",
   "execution_count": 22,
   "metadata": {},
   "outputs": [
    {
     "name": "stdout",
     "output_type": "stream",
     "text": [
      "['apple', 'bannana', 'cherry', 'mango', 'watermelon']\n"
     ]
    }
   ],
   "source": [
    "#pop() is ued to remove index based element from a list\n",
    "fruits=['apple','bannana','cherry','melon','mango','watermelon']\n",
    "fruits.pop(3)   #pass element index and value will be removes and returned as result\n",
    "print(fruits)"
   ]
  },
  {
   "cell_type": "code",
   "execution_count": 23,
   "metadata": {},
   "outputs": [
    {
     "name": "stdout",
     "output_type": "stream",
     "text": [
      "['apple', 'bannana', 'cherry', 'mango']\n"
     ]
    }
   ],
   "source": [
    "fruits.pop()    #if index not specified then last index element will be removed\n",
    "print(fruits)"
   ]
  },
  {
   "cell_type": "code",
   "execution_count": 26,
   "metadata": {},
   "outputs": [
    {
     "name": "stdout",
     "output_type": "stream",
     "text": [
      "[] 0\n"
     ]
    }
   ],
   "source": [
    "fruits.clear()\n",
    "print(fruits,len(fruits))"
   ]
  },
  {
   "cell_type": "code",
   "execution_count": 28,
   "metadata": {},
   "outputs": [
    {
     "name": "stdout",
     "output_type": "stream",
     "text": [
      "5\n",
      "7\n",
      "3\n"
     ]
    }
   ],
   "source": [
    "#.count( used to count the frequency of an element in a list\n",
    "x=[1,2,3,1,1,2,2,2,2,3,1,2,1,3,2]\n",
    "print(x.count(1))\n",
    "print(x.count(2))\n",
    "print(x.count(3))\n"
   ]
  },
  {
   "cell_type": "code",
   "execution_count": 30,
   "metadata": {},
   "outputs": [
    {
     "name": "stdout",
     "output_type": "stream",
     "text": [
      "[6, 5, 4, 3, 2, 1]\n"
     ]
    }
   ],
   "source": [
    "#.reverse() used to reverse elements of a list in an asc order\n",
    "y=[1,2,3,4,5,6]\n",
    "y.reverse()\n",
    "print(y)"
   ]
  },
  {
   "cell_type": "code",
   "execution_count": 35,
   "metadata": {},
   "outputs": [
    {
     "name": "stdout",
     "output_type": "stream",
     "text": [
      "[12, 13, 23, 54, 78, 87]\n",
      "[87, 78, 54, 23, 13, 12]\n"
     ]
    }
   ],
   "source": [
    "z=[54,12,87,23,78,13]\n",
    "z.sort()\n",
    "print(z)\n",
    "z.sort(reverse=True)    #used to reverse in desecending orderh\n",
    "print(z)\n",
    "\n",
    "\n"
   ]
  },
  {
   "cell_type": "code",
   "execution_count": 40,
   "metadata": {},
   "outputs": [
    {
     "name": "stdout",
     "output_type": "stream",
     "text": [
      "[1, 2, 3, 4, 5]\n",
      "[1, 2, 3, 4, 5]\n",
      "[1, 2, 3, 6]\n",
      "True\n",
      "False\n"
     ]
    }
   ],
   "source": [
    "x=[1,2,3]\n",
    "y=x         #y point to same address to x => any changes by x or y will be reflected to both of them\n",
    "z=x.copy()  #copy is ued to assign a duplicate value of og list and assign it to given variable\n",
    "x.append(4) #4 appended to x....will be reflected to y also...now x=y=[1,2,3,4]\n",
    "y.append(5) #5 appended to y....will be reflected to x also...now y=x=[1,2,3,4,5]\n",
    "z.append(6)\n",
    "print(x)\n",
    "print(y)\n",
    "print(z)\n",
    "print(x is y)\n",
    "print(x is z)"
   ]
  },
  {
   "cell_type": "code",
   "execution_count": 42,
   "metadata": {},
   "outputs": [
    {
     "name": "stdout",
     "output_type": "stream",
     "text": [
      "[1, 4, 9, 16, 25]\n"
     ]
    }
   ],
   "source": [
    "x=[1,2,3,4,5]\n",
    "x2=[]\n",
    "for i in x:\n",
    "    x2.append(i**2)\n",
    "print(x2)"
   ]
  },
  {
   "cell_type": "code",
   "execution_count": 47,
   "metadata": {},
   "outputs": [
    {
     "name": "stdout",
     "output_type": "stream",
     "text": [
      "[1, 4, 9, 16, 25]\n"
     ]
    }
   ],
   "source": [
    "#list comprehention\n",
    "x=[1,2,3,4,5]\n",
    "x2=[i**2 for i in x ]   #newlist=[operation loop (condition)]\n",
    "print(x2)"
   ]
  },
  {
   "cell_type": "code",
   "execution_count": 48,
   "metadata": {},
   "outputs": [
    {
     "name": "stdout",
     "output_type": "stream",
     "text": [
      "[-9, -8, -7, -6, -5, -4, -3, -2, -1, 0]\n"
     ]
    }
   ],
   "source": [
    "a=[1,2,3,4,5,6,7,8,9,10]\n",
    "a2=[i-10 for i in a]\n",
    "print(a2)"
   ]
  },
  {
   "cell_type": "code",
   "execution_count": 76,
   "metadata": {},
   "outputs": [
    {
     "name": "stdout",
     "output_type": "stream",
     "text": [
      "[16, 36]\n"
     ]
    }
   ],
   "source": [
    "#print square of even elemments of a list\n",
    "x=[15,4,1,11,6,7]\n",
    "xeven2=[i**2 for i in x if i%2==0]\n",
    "print(xeven2)"
   ]
  },
  {
   "cell_type": "code",
   "execution_count": 64,
   "metadata": {},
   "outputs": [
    {
     "name": "stdout",
     "output_type": "stream",
     "text": [
      "[10, -4, 6, 2]\n"
     ]
    }
   ],
   "source": [
    "#print -5 of odd elemments of a list\n",
    "x=[15,4,1,11,6,7]\n",
    "xeven2=[i-5 for i in x if i%2!=0]\n",
    "print(xeven2)"
   ]
  },
  {
   "cell_type": "code",
   "execution_count": 66,
   "metadata": {},
   "outputs": [
    {
     "name": "stdout",
     "output_type": "stream",
     "text": [
      "[65, 68, 59, 20, 70]\n",
      "['A', 'D', ';', '\\x14', 'F']\n"
     ]
    }
   ],
   "source": [
    "#print unicode of elements of list\n",
    "a=[65,68,59,20,70]\n",
    "b=[chr(i) for i in a]\n",
    "print(a)\n",
    "print(b)"
   ]
  },
  {
   "cell_type": "code",
   "execution_count": 70,
   "metadata": {},
   "outputs": [
    {
     "name": "stdout",
     "output_type": "stream",
     "text": [
      "[1, 2, 3, 4, 5, 5, 1, 1, 2, 4, 6]\n"
     ]
    }
   ],
   "source": [
    "crap_list=['A',1,2,3,'B','C','D',4,5,5,1,1,2,4,6]\n",
    "clean_list=[i for i in crap_list if isinstance(i,int)] \n",
    "print(clean_list)"
   ]
  },
  {
   "cell_type": "markdown",
   "metadata": {},
   "source": [
    "isinstance(value,datatype)  used to check the datatype of the given value"
   ]
  },
  {
   "cell_type": "code",
   "execution_count": 71,
   "metadata": {},
   "outputs": [
    {
     "name": "stdout",
     "output_type": "stream",
     "text": [
      "['A', 'B', 'C', 'D']\n"
     ]
    }
   ],
   "source": [
    "crap_list=['A',1,2,3,'B','C','D',4,5,5,1,1,2,4,6]\n",
    "clean_list=[i for i in crap_list if isinstance(i,str)]\n",
    "print(clean_list)"
   ]
  },
  {
   "cell_type": "code",
   "execution_count": 75,
   "metadata": {},
   "outputs": [
    {
     "name": "stdout",
     "output_type": "stream",
     "text": [
      "[12, 45, 87, 23, 67]\n"
     ]
    }
   ],
   "source": [
    "num=[int(i) for i in input().split()]\n",
    "print(num)"
   ]
  },
  {
   "cell_type": "code",
   "execution_count": null,
   "metadata": {},
   "outputs": [],
   "source": []
  }
 ],
 "metadata": {
  "kernelspec": {
   "display_name": "base",
   "language": "python",
   "name": "python3"
  },
  "language_info": {
   "codemirror_mode": {
    "name": "ipython",
    "version": 3
   },
   "file_extension": ".py",
   "mimetype": "text/x-python",
   "name": "python",
   "nbconvert_exporter": "python",
   "pygments_lexer": "ipython3",
   "version": "3.12.3"
  }
 },
 "nbformat": 4,
 "nbformat_minor": 2
}
