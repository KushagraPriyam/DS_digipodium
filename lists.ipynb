{
 "cells": [
  {
   "cell_type": "markdown",
   "metadata": {},
   "source": [
    "### Lists\n",
    "    - create\n",
    "    -indexing and slicing\n",
    "    - methods\n",
    "    -comprehension"
   ]
  },
  {
   "cell_type": "code",
   "execution_count": 9,
   "metadata": {},
   "outputs": [
    {
     "name": "stdout",
     "output_type": "stream",
     "text": [
      "[1, 2, 3] <class 'list'>\n",
      "[12, 'mango', 32, 'apple'] <class 'list'>\n",
      "[[1, 2, 3], [4, 5, 6], [8, 9, 10]] <class 'list'> 3\n",
      "[5, 5, 5, 5, 5, 5, 5, 5, 5, 5]\n",
      "['v', 'e', 'r', 't', 'e', 'x']\n",
      "['welcome', 'to', 'python']\n"
     ]
    }
   ],
   "source": [
    "a=[1,2,3,]\n",
    "print(a,type(a))\n",
    "\n",
    "\n",
    "data=[12,'mango',32,'apple']\n",
    "print(data,type(data))\n",
    "\n",
    "\n",
    "nested_list=[[1,2,3],[4,5,6],[8,9,10]]\n",
    "print(nested_list,type(nested_list),len(nested_list))\n",
    "\n",
    "\n",
    "duplcated_list=[5]*10\n",
    "print(duplcated_list)\n",
    "\n",
    "\n",
    "print(list(\"vertex\"))\n",
    "\n",
    "\n",
    "print(\"welcome to python\".split())"
   ]
  },
  {
   "cell_type": "code",
   "execution_count": 28,
   "metadata": {},
   "outputs": [
    {
     "name": "stdout",
     "output_type": "stream",
     "text": [
      "first five [11, 12, 13, 14, 15]\n",
      "last five [16, 17, 18, 19, 20]\n",
      "reverse [20, 19, 18, 17, 16, 15, 14, 13, 12, 11]\n",
      "even [11, 13, 15, 17, 19]\n",
      "odd [12, 14, 16, 18, 20]\n",
      "list exculding first 2 and last 2 elemensts [18, 17, 16, 15, 14, 13]\n",
      "reverse list exculding first and last 2 elements [13, 14, 15, 16, 17, 18]\n"
     ]
    }
   ],
   "source": [
    "n=[11,12,13,14,15,16,17,18,19,20]\n",
    "print('first five',n[:5])   #slicing rules same as in strings\n",
    "print('last five',n[-5:])\n",
    "print('reverse',n[::-1])\n",
    "print('even',n[::2])\n",
    "print('odd',n[1::2])\n",
    "print('list exculding first 2 and last 2 elemensts',n[-3:1:-1])\n",
    "print('reverse list exculding first and last 2 elements',n[2:-2])"
   ]
  },
  {
   "cell_type": "code",
   "execution_count": 29,
   "metadata": {},
   "outputs": [
    {
     "data": {
      "text/plain": [
       "[15, 14, 13, 12, 11]"
      ]
     },
     "execution_count": 29,
     "metadata": {},
     "output_type": "execute_result"
    }
   ],
   "source": [
    "n[4::-1]"
   ]
  },
  {
   "cell_type": "code",
   "execution_count": 32,
   "metadata": {},
   "outputs": [
    {
     "name": "stdout",
     "output_type": "stream",
     "text": [
      "[11, 12, 13, 14, 15, 100, 17, 18, 19, 20]\n"
     ]
    }
   ],
   "source": [
    "n[5]=100    #lists are mutable dtype\n",
    "print(n)"
   ]
  },
  {
   "cell_type": "code",
   "execution_count": 74,
   "metadata": {},
   "outputs": [
    {
     "name": "stdout",
     "output_type": "stream",
     "text": [
      "['bullet train', 'inside out', 'star wars', 'planet of apes', 'kalki 2898 AD']\n"
     ]
    }
   ],
   "source": [
    "#.append(value)  used to add element to the last of the list\n",
    "movies=[]\n",
    "movies.append(\"bullet train\")\n",
    "movies.append(\"inside out\")\n",
    "movies.append(\"star wars\")\n",
    "movies.append(\"planet of apes\")\n",
    "movies.append(\"kalki 2898 AD\")\n",
    "\n",
    "print(movies)"
   ]
  },
  {
   "cell_type": "code",
   "execution_count": 65,
   "metadata": {},
   "outputs": [
    {
     "name": "stdout",
     "output_type": "stream",
     "text": [
      "['fast and furious', '2 fast and furious', 'fast4', 'fast and furies: tokyo drift', 'fast 5']\n"
     ]
    }
   ],
   "source": [
    "ff=[\"fast and furious\",'2 fast and furious','fast and furies: tokyo drift','fast 5']\n",
    "ff.insert(2,\"fast4\")\n",
    "print(ff)"
   ]
  },
  {
   "cell_type": "code",
   "execution_count": 63,
   "metadata": {},
   "outputs": [
    {
     "data": {
      "text/plain": [
       "[1, 2, 6, 3, 4, 5]"
      ]
     },
     "execution_count": 63,
     "metadata": {},
     "output_type": "execute_result"
    }
   ],
   "source": [
    "#insert(index,value) used to add value to the given index inside a list\n",
    "n=[1,2,3,4,5]\n",
    "n.insert(2,6)   \n",
    "n"
   ]
  },
  {
   "cell_type": "code",
   "execution_count": 83,
   "metadata": {},
   "outputs": [
    {
     "name": "stdout",
     "output_type": "stream",
     "text": [
      "[1, 2, 3, 4, 5, 6] [4, 5, 6, 7, 8, 9] [7, 8, 9, 7, 8, 9]\n"
     ]
    }
   ],
   "source": [
    "#.extend() useed to add another list to the given list\n",
    "l1=[1,2,3]\n",
    "l2=[4,5,6]\n",
    "l3=[7,8,9]\n",
    "l1.extend(l2)   #only 1 parameter\n",
    "l2.extend(l3)\n",
    "l3.extend(l3)\n",
    "print(l1,l2,l3)"
   ]
  },
  {
   "cell_type": "code",
   "execution_count": null,
   "metadata": {},
   "outputs": [],
   "source": []
  }
 ],
 "metadata": {
  "kernelspec": {
   "display_name": "base",
   "language": "python",
   "name": "python3"
  },
  "language_info": {
   "codemirror_mode": {
    "name": "ipython",
    "version": 3
   },
   "file_extension": ".py",
   "mimetype": "text/x-python",
   "name": "python",
   "nbconvert_exporter": "python",
   "pygments_lexer": "ipython3",
   "version": "3.12.3"
  }
 },
 "nbformat": 4,
 "nbformat_minor": 2
}
