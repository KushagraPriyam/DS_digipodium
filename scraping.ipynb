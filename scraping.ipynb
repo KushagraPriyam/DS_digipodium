{
 "cells": [
  {
   "cell_type": "code",
   "execution_count": null,
   "metadata": {},
   "outputs": [],
   "source": [
    "#https://digipodium.com/mining-demo.html#   \n",
    "from dputils.scrape import Scraper,Tag"
   ]
  },
  {
   "cell_type": "code",
   "execution_count": null,
   "metadata": {},
   "outputs": [],
   "source": [
    "target= Tag('main')\n",
    "items=Tag(cls='col')\n",
    "title= Tag('h4')\n",
    "price= Tag('h1')"
   ]
  },
  {
   "cell_type": "code",
   "execution_count": 54,
   "metadata": {},
   "outputs": [
    {
     "data": {
      "text/plain": [
       "[{'title': 'LuxoWatch ', 'price': '₹5949.82'},\n",
       " {'title': 'SuperPhone X', 'price': '₹67118.07'},\n",
       " {'title': 'Miracle Blender', 'price': '₹3689.88'},\n",
       " {'title': 'Quantum Headphones', 'price': '₹9709.69'},\n",
       " {'title': 'SmartFridge', 'price': '₹89699.05'},\n",
       " {'title': 'Galactic Glasses', 'price': '₹2234.52'},\n",
       " {'title': 'PowerJuicer', 'price': '₹6651.27'},\n",
       " {'title': 'iSpectre Laptop', 'price': '₹119647.11'},\n",
       " {'title': 'HealthBand', 'price': '₹5228.64'},\n",
       " {'title': 'MaxiSound Speaker', 'price': '₹14908.25'},\n",
       " {'title': 'UltraSound Toothbrush', 'price': '₹2456.50'},\n",
       " {'title': 'SuperFit Smartwatch', 'price': '₹3679.99'},\n",
       " {'title': 'GoPro Hero 9', 'price': '₹28999.00'},\n",
       " {'title': 'AirPods Pro', 'price': '₹12780.50'},\n",
       " {'title': 'Fitness Treadmill', 'price': '₹38999.00'},\n",
       " {'title': 'Bluetooth Headphones', 'price': '₹1649.99'},\n",
       " {'title': 'Smart Thermostat', 'price': '₹2999.00'},\n",
       " {'title': 'Automatic Coffee Maker', 'price': '₹6299.99'},\n",
       " {'title': 'Wireless Charger', 'price': '₹1499.50'},\n",
       " {'title': 'Bluetooth Headphones', 'price': '₹1649.99'},\n",
       " {'title': 'Smart Thermostat', 'price': '₹2999.00'},\n",
       " {'title': 'Automatic Coffee Maker', 'price': '₹6299.99'},\n",
       " {'title': 'Wireless Charger', 'price': '₹1499.50'},\n",
       " {'title': 'Wireless Bluetooth Earbuds', 'price': '₹899.99'}]"
      ]
     },
     "execution_count": 54,
     "metadata": {},
     "output_type": "execute_result"
    }
   ],
   "source": [
    "sc1.get_repeating_date_from_page(\n",
    "    target=target,\n",
    "    items=items,\n",
    "    title=title,\n",
    "    price=price\n",
    ")"
   ]
  },
  {
   "cell_type": "markdown",
   "metadata": {},
   "source": [
    "### multipage scrapping"
   ]
  },
  {
   "cell_type": "code",
   "execution_count": 36,
   "metadata": {},
   "outputs": [],
   "source": [
    "def get_items_from_flipkart(query,page=1):\n",
    "    url=f'https://www.flipkart.com/search?q={query}'\n",
    "    sc2=Scraper(url)\n",
    "    t=Tag(cls='DOjaWF gdgoEp')  #class of whole page area we want\n",
    "    i=Tag(cls='slAVV4') #cls of img tag, div by default so no need to write\n",
    "    return sc2.get_repeating_date_from_page(\n",
    "        target=t,\n",
    "        items=i,\n",
    "        #info=True,\n",
    "        image=Tag('img',cls='DByuf4',output='src'), #tag img used & output will be in src for img\n",
    "        link=Tag('a',cls='VJA3rP',output='href'),   #tag a is used & o/p will be in href for img\n",
    "        title=Tag('a',cls=\"wjcEIp\")\n",
    "        )"
   ]
  },
  {
   "cell_type": "code",
   "execution_count": 48,
   "metadata": {},
   "outputs": [
    {
     "name": "stdout",
     "output_type": "stream",
     "text": [
      "scrapped page=1\n",
      "scrapped page=2\n",
      "scrapped page=3\n",
      "scrapped page=4\n",
      "scrapped page=5\n",
      "scrapped page=6\n",
      "scrapped page=7\n",
      "scrapped page=8\n",
      "scrapped page=9\n",
      "scrapped page=10\n",
      "scrapped page=11\n",
      "scrapped page=12\n",
      "scrapped page=13\n",
      "scrapped page=14\n",
      "scrapped page=15\n",
      "scrapped page=16\n",
      "scrapped page=17\n",
      "scrapped page=18\n",
      "scrapped page=19\n",
      "stopping , no more data\n"
     ]
    }
   ],
   "source": [
    "query='books'\n",
    "page=1\n",
    "all_data=[]\n",
    "while True:\n",
    "    if page<20: #scrapping only upto 20 pages\n",
    "        data=get_items_from_flipkart(query,page)\n",
    "        if len(data)>0:\n",
    "            print(f'scrapped {page=}')\n",
    "            all_data.extend(data)\n",
    "            page+=1\n",
    "    else:\n",
    "        print(\"stopping , no more data\")\n",
    "        break"
   ]
  },
  {
   "cell_type": "code",
   "execution_count": 49,
   "metadata": {},
   "outputs": [
    {
     "data": {
      "text/plain": [
       "760"
      ]
     },
     "execution_count": 49,
     "metadata": {},
     "output_type": "execute_result"
    }
   ],
   "source": [
    "len(all_data)"
   ]
  },
  {
   "cell_type": "code",
   "execution_count": 53,
   "metadata": {},
   "outputs": [],
   "source": [
    "import pandas as pd\n",
    "pd.DataFrame(all_data).to_excel('scrapping.xlsx',index=False)"
   ]
  },
  {
   "cell_type": "markdown",
   "metadata": {},
   "source": [
    "### single page data"
   ]
  },
  {
   "cell_type": "code",
   "execution_count": 47,
   "metadata": {},
   "outputs": [
    {
     "data": {
      "text/plain": [
       "{'title': 'Shrimad Bhagwat Gita Yatharoop\\xa0\\xa0(Hardcover, Hindi, A.C BHAKTIVEDANT SWAMI SHRILA PRABHUPAD)',\n",
       " 'price': '₹125',\n",
       " 'ratings': '4.7',\n",
       " 'desc': 'BookShrimad Bhagwat Gita YatharoopAuthorA.C BHAKTIVEDANT SWAMI SHRILA PRABHUPADBindingHardcoverPublishing Date2019PublisherBHAKTIVEDANT BOOK TRUSTEdition2019Number of Pages644LanguageHindi'}"
      ]
     },
     "execution_count": 47,
     "metadata": {},
     "output_type": "execute_result"
    }
   ],
   "source": [
    "url='https://www.flipkart.com/shrimad-bhagwat-gita-yatharoop/p/itm396d7dfa529b6?pid=RBKGFN3EHZJN2CQJ&lid=LSTRBKGFN3EHZJN2CQJX2KMF3&marketplace=FLIPKART&q=books&store=bks&srno=s_1_15&otracker=search&otracker1=search&fm=organic&iid=2f5d4196-d465-4ec9-af9a-276b19c8acf8.RBKGFN3EHZJN2CQJ.SEARCH&ppt=hp&ppn=homepage&ssid=nx3d6p61i80000001723897619226&qH=7d8949bcbf85067f'\n",
    "sc3=Scraper(url)\n",
    "sc3.get_data_from_page(\n",
    "    title=Tag('span',cls='VU-ZEz'),\n",
    "    price=Tag('div',cls='Nx9bqj CxhGGd'),\n",
    "    ratings=Tag(cls='XQDdHH'),\n",
    "    desc= Tag(cls='GNDEQ-')\n",
    ")"
   ]
  }
 ],
 "metadata": {
  "kernelspec": {
   "display_name": "base",
   "language": "python",
   "name": "python3"
  },
  "language_info": {
   "codemirror_mode": {
    "name": "ipython",
    "version": 3
   },
   "file_extension": ".py",
   "mimetype": "text/x-python",
   "name": "python",
   "nbconvert_exporter": "python",
   "pygments_lexer": "ipython3",
   "version": "3.12.3"
  }
 },
 "nbformat": 4,
 "nbformat_minor": 2
}
