{
 "cells": [
  {
   "cell_type": "code",
   "execution_count": 1,
   "metadata": {},
   "outputs": [
    {
     "name": "stdout",
     "output_type": "stream",
     "text": [
      "12 <class 'int'>\n"
     ]
    }
   ],
   "source": [
    "x=12 \n",
    "print(x,type(x))"
   ]
  },
  {
   "cell_type": "markdown",
   "metadata": {},
   "source": [
    "OOP\n",
    "- class\n",
    "- object\n",
    "- inheritence\n"
   ]
  },
  {
   "cell_type": "code",
   "execution_count": 2,
   "metadata": {},
   "outputs": [
    {
     "name": "stdout",
     "output_type": "stream",
     "text": [
      "<class 'str'>\n"
     ]
    }
   ],
   "source": [
    "name='john'\n",
    "print(type(name))"
   ]
  },
  {
   "cell_type": "markdown",
   "metadata": {},
   "source": [
    "class- blueprint for creating objects\n",
    "- properties/attributes/fields\n",
    "- methods/functions\n",
    "- constructor (special method)\n",
    "syntax\n",
    "'''''\n",
    "class ClassName:\n",
    "    properties 1\n",
    "    properties 2\n",
    "    properties 3\n",
    "\n",
    "    def method1():\n",
    "         statements"
   ]
  },
  {
   "cell_type": "code",
   "execution_count": 3,
   "metadata": {},
   "outputs": [],
   "source": [
    "class nothing:\n",
    "    pass"
   ]
  },
  {
   "cell_type": "code",
   "execution_count": 4,
   "metadata": {},
   "outputs": [
    {
     "name": "stdout",
     "output_type": "stream",
     "text": [
      "<class '__main__.nothing'>\n"
     ]
    }
   ],
   "source": [
    "print(nothing)"
   ]
  },
  {
   "cell_type": "code",
   "execution_count": 5,
   "metadata": {},
   "outputs": [],
   "source": [
    "class book: #class def n name\n",
    "    title=''   #properties\n",
    "    author=''   "
   ]
  },
  {
   "cell_type": "code",
   "execution_count": 8,
   "metadata": {},
   "outputs": [
    {
     "data": {
      "text/plain": [
       "['__class__',\n",
       " '__delattr__',\n",
       " '__dict__',\n",
       " '__dir__',\n",
       " '__doc__',\n",
       " '__eq__',\n",
       " '__format__',\n",
       " '__ge__',\n",
       " '__getattribute__',\n",
       " '__getstate__',\n",
       " '__gt__',\n",
       " '__hash__',\n",
       " '__init__',\n",
       " '__init_subclass__',\n",
       " '__le__',\n",
       " '__lt__',\n",
       " '__module__',\n",
       " '__ne__',\n",
       " '__new__',\n",
       " '__reduce__',\n",
       " '__reduce_ex__',\n",
       " '__repr__',\n",
       " '__setattr__',\n",
       " '__sizeof__',\n",
       " '__str__',\n",
       " '__subclasshook__',\n",
       " '__weakref__',\n",
       " 'author',\n",
       " 'title']"
      ]
     },
     "execution_count": 8,
     "metadata": {},
     "output_type": "execute_result"
    }
   ],
   "source": [
    "dir(book)"
   ]
  },
  {
   "cell_type": "code",
   "execution_count": 13,
   "metadata": {},
   "outputs": [
    {
     "name": "stdout",
     "output_type": "stream",
     "text": [
      "<__main__.book object at 0x00000227554AE0F0>\n",
      "words of radiance\n",
      "brandon sanderson\n",
      "<__main__.book object at 0x00000227538AEAB0>\n",
      "the way of kings\n",
      "brandon sanderson\n"
     ]
    }
   ],
   "source": [
    "b1= book()  #obj = class()\n",
    "print(b1)\n",
    "b1.title='words of radiance'\n",
    "b1.author='brandon sanderson'\n",
    "print(b1.title)\n",
    "print(b1.author)\n",
    "\n",
    "b2=book()    #obj will be stores in a memory unlike class\n",
    "b2.title=\"the way of kings\"\n",
    "b2.author=\"brandon sanderson\"\n",
    "print(b2)\n",
    "print(b2.title)\n",
    "print(b2.author)"
   ]
  },
  {
   "cell_type": "code",
   "execution_count": 14,
   "metadata": {},
   "outputs": [
    {
     "data": {
      "text/plain": [
       "['__class__',\n",
       " '__delattr__',\n",
       " '__dict__',\n",
       " '__dir__',\n",
       " '__doc__',\n",
       " '__eq__',\n",
       " '__format__',\n",
       " '__ge__',\n",
       " '__getattribute__',\n",
       " '__getstate__',\n",
       " '__gt__',\n",
       " '__hash__',\n",
       " '__init__',\n",
       " '__init_subclass__',\n",
       " '__le__',\n",
       " '__lt__',\n",
       " '__module__',\n",
       " '__ne__',\n",
       " '__new__',\n",
       " '__reduce__',\n",
       " '__reduce_ex__',\n",
       " '__repr__',\n",
       " '__setattr__',\n",
       " '__sizeof__',\n",
       " '__str__',\n",
       " '__subclasshook__',\n",
       " '__weakref__',\n",
       " 'date',\n",
       " 'dp',\n",
       " 'has_status',\n",
       " 'last_msg',\n",
       " 'muted',\n",
       " 'notif',\n",
       " 'pinned',\n",
       " 'sender']"
      ]
     },
     "execution_count": 14,
     "metadata": {},
     "output_type": "execute_result"
    }
   ],
   "source": [
    "class ChatMessage:\n",
    "    def __init__(self,s,msg,dp,date,n,p,m,hs):    #constructor define using __init__\n",
    "        self.sender=s\n",
    "        self.last_msg=msg\n",
    "        self.dp=dp\n",
    "        self.date=date\n",
    "        self.notif=n\n",
    "        self.pinned=p\n",
    "        self.muted=m\n",
    "        self.has_status=hs\n",
    "    \n",
    "cm1=ChatMessage('narendra modi',msg='bhaiyo behno!...!',\n",
    "                dp='namo.jpg',date='12-08-2024',\n",
    "                n=1,p=False,m=False,hs=True)\n",
    "\n",
    "dir(cm1)\n"
   ]
  },
  {
   "cell_type": "code",
   "execution_count": 23,
   "metadata": {},
   "outputs": [],
   "source": [
    "class student:\n",
    "    def __init__ (self,name,std,roll):\n",
    "        self.name=name\n",
    "        self.std=std\n",
    "        self.roll=roll\n",
    "        \n",
    "    def display(self):\n",
    "        print('name: ',self.name)\n",
    "        print('standard: ',self.std)\n",
    "        print('roll_no: ',self.roll)\n",
    "        print('_'*20)\n",
    "        \n",
    "        "
   ]
  },
  {
   "cell_type": "code",
   "execution_count": 24,
   "metadata": {},
   "outputs": [
    {
     "name": "stdout",
     "output_type": "stream",
     "text": [
      "name:  john\n",
      "standard:  12\n",
      "roll_no:  101\n",
      "____________________\n",
      "name:  jane\n",
      "standard:  12\n",
      "roll_no:  102\n",
      "____________________\n",
      "name:  jack\n",
      "standard:  12\n",
      "roll_no:  103\n",
      "____________________\n"
     ]
    }
   ],
   "source": [
    "s1=student('john',12,101)\n",
    "s2=student('jane',12,102)\n",
    "s3=student('jack',12,103)\n",
    "s1.display()\n",
    "s2.display()\n",
    "s3.display()\n"
   ]
  },
  {
   "cell_type": "code",
   "execution_count": 36,
   "metadata": {},
   "outputs": [],
   "source": [
    "class pet:\n",
    "    def __init__(self,type,breed,color,gender):\n",
    "        self.type=type\n",
    "        self.breed=breed\n",
    "        self.color=color\n",
    "        self.gender=gender\n",
    "        \n",
    "    def display(self):\n",
    "        print('type: ',self.type)\n",
    "        print('breed: ',self.breed)\n",
    "        print('color: ',self.color)\n",
    "        print('gender: ',self.gender)\n",
    "        print(\"_\"*20)"
   ]
  },
  {
   "cell_type": "code",
   "execution_count": 37,
   "metadata": {},
   "outputs": [
    {
     "name": "stdout",
     "output_type": "stream",
     "text": [
      "type:  dog\n",
      "breed:  labrador\n",
      "color:  brown\n",
      "gender:  male\n",
      "____________________\n",
      "type:  dog\n",
      "breed:  german shephard\n",
      "color:  black\n",
      "gender:  male\n",
      "____________________\n",
      "type:  cat\n",
      "breed:  turkish\n",
      "color:  orange\n",
      "gender:  female\n",
      "____________________\n",
      "type:  dog\n",
      "breed:  labrador\n",
      "color:  brown\n",
      "gender:  male\n",
      "____________________\n"
     ]
    }
   ],
   "source": [
    "p1=pet('dog','labrador','brown','male')\n",
    "p2=pet('dog','german shephard','black','male')\n",
    "p3=pet('cat','turkish','orange','female')\n",
    "p4=pet('dog','labrador','brown','male')\n",
    "\n",
    "p1.display()\n",
    "p2.display()\n",
    "p3.display()\n",
    "p4.display()"
   ]
  },
  {
   "cell_type": "code",
   "execution_count": 28,
   "metadata": {},
   "outputs": [],
   "source": [
    "#another way to do...often used if work on storing and retrieval of data\n",
    "from dataclasses import dataclass\n",
    "\n",
    "@dataclass   #decorator: will create coonstructor and other req on its own\n",
    "class pet:\n",
    "    type:str\n",
    "    gender:str\n",
    "    color:strz\n",
    "    age:int"
   ]
  },
  {
   "cell_type": "code",
   "execution_count": 30,
   "metadata": {},
   "outputs": [
    {
     "name": "stdout",
     "output_type": "stream",
     "text": [
      "pet(type='dog', gender='male', color='brown', age=0.5)\n",
      "pet(type='dog', gender='female', color='black', age=1)\n",
      "pet(type='cat', gender='male', color='orange', age=2)\n"
     ]
    }
   ],
   "source": [
    "p1=pet(type='dog',gender='male',color='brown',age=0.5)   #object creation\n",
    "p2=pet(type='dog',gender='female',color='black',age=1)\n",
    "p3=pet(type='cat',gender='male',color='orange',age=2)\n",
    "\n",
    "print(p1)\n",
    "print(p2)\n",
    "print(p3)"
   ]
  },
  {
   "cell_type": "markdown",
   "metadata": {},
   "source": [
    "### inheritance\n",
    "    -multilevel inheritance (A->B->C)\n",
    "     `````\n",
    "     class SuperClass:\n",
    "          pass\n",
    "\n",
    "    class SubClass(SuperClass):\n",
    "         pass\n",
    "     class SubSubClass(SubClass):\n",
    "         pass\n",
    "\n",
    "\n",
    "    -multiple inheritance (A,B->C)\n"
   ]
  },
  {
   "cell_type": "code",
   "execution_count": 38,
   "metadata": {},
   "outputs": [],
   "source": [
    "class vehicle:\n",
    "    def __init__(self,brand,model):\n",
    "        self.brand=brand\n",
    "        self.model=model\n",
    "    def display(self):\n",
    "        print(f'{self.brand}-{self.model}')"
   ]
  },
  {
   "cell_type": "code",
   "execution_count": 40,
   "metadata": {},
   "outputs": [],
   "source": [
    "#car,bike,truck\n",
    "class car(vehicle):\n",
    "    def __init__(self,brand,model,cartype,seats):\n",
    "        super().__init__(brand,model)  #brand and model will be handeled by superclass since already created\n",
    "        self.cartype=cartype\n",
    "        self.seats=seats\n",
    "        "
   ]
  },
  {
   "cell_type": "code",
   "execution_count": 43,
   "metadata": {},
   "outputs": [
    {
     "name": "stdout",
     "output_type": "stream",
     "text": [
      "volkswagen-virtus\n",
      "mahindra-tharRoxx\n",
      "MG-windsor\n"
     ]
    }
   ],
   "source": [
    "c1=car('volkswagen','virtus','sedan','4')\n",
    "c2=car('mahindra','tharRoxx','SUV','5')\n",
    "c3=car('MG','windsor','CUV','5')\n",
    "c1.display()\n",
    "c2.display()\n",
    "c3.display()"
   ]
  },
  {
   "cell_type": "code",
   "execution_count": 44,
   "metadata": {},
   "outputs": [],
   "source": [
    "class superlist(list):\n",
    "    def __init__(self,*args):\n",
    "        super().__init__(*args)\n",
    "    def sum(self):\n",
    "        clean_list=[x for x in self if isinstance(x,int)]\n",
    "        return(sum(clean_list))"
   ]
  },
  {
   "cell_type": "code",
   "execution_count": 47,
   "metadata": {},
   "outputs": [
    {
     "name": "stdout",
     "output_type": "stream",
     "text": [
      "[1, 2, 'ab', 3, 4, 5, 'ad']\n",
      "15\n"
     ]
    }
   ],
   "source": [
    "x=superlist([1,2,'ab',3,4,5,'ad'])\n",
    "print(x)\n",
    "print(x.sum())    #can make of own class as superclass and can be used: heritance"
   ]
  },
  {
   "cell_type": "code",
   "execution_count": 49,
   "metadata": {},
   "outputs": [],
   "source": [
    "#multiple inheritance\n",
    "\n",
    "import random\n",
    "\n",
    "class wizard:\n",
    "    def __init__(self,spells):\n",
    "        self.spells=spells\n",
    "    def cast_spell(self):\n",
    "        print(f'casting spell {random.choice(self.spells)}')\n",
    "        \n",
    "class warrior:\n",
    "    def __init__(self,weapons):\n",
    "        self.weapons=weapons\n",
    "    def attack(self):\n",
    "        print(f'attacking with {random.choice(self.weapons)}')\n",
    "    \n",
    "class BattleMage(wizard,warrior):\n",
    "    def __init__(self,spells,weapons):\n",
    "       wizard.__init__(self,spells)\n",
    "       warrior.__init__(self,weapons)\n",
    "       \n",
    "    def fight(self):\n",
    "        self.cast_spell()\n",
    "        self.attack()"
   ]
  },
  {
   "cell_type": "code",
   "execution_count": 51,
   "metadata": {},
   "outputs": [
    {
     "name": "stdout",
     "output_type": "stream",
     "text": [
      "warrior\n",
      "attacking with axe\n",
      "wizard\n",
      "casting spell lightening\n",
      "BattleMage\n",
      "casting spell fireball\n",
      "attacking with axe\n"
     ]
    }
   ],
   "source": [
    "w=warrior(['sword','axe','mace'])\n",
    "wz=wizard(['fireball','iceball','lightening'])\n",
    "bm=BattleMage(['fireball','iceball','lightening'],\n",
    "               ['sword','axe','mace'])\n",
    "\n",
    "print('warrior')\n",
    "w.attack()\n",
    "print('wizard')\n",
    "wz.cast_spell()\n",
    "print(\"BattleMage\")\n",
    "bm.fight()"
   ]
  },
  {
   "cell_type": "code",
   "execution_count": null,
   "metadata": {},
   "outputs": [],
   "source": []
  }
 ],
 "metadata": {
  "kernelspec": {
   "display_name": "base",
   "language": "python",
   "name": "python3"
  },
  "language_info": {
   "codemirror_mode": {
    "name": "ipython",
    "version": 3
   },
   "file_extension": ".py",
   "mimetype": "text/x-python",
   "name": "python",
   "nbconvert_exporter": "python",
   "pygments_lexer": "ipython3",
   "version": "3.12.3"
  }
 },
 "nbformat": 4,
 "nbformat_minor": 2
}
