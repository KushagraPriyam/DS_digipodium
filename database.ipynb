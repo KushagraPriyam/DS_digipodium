{
 "cells": [
  {
   "cell_type": "markdown",
   "metadata": {},
   "source": [
    "pip install sqlalchemy\n"
   ]
  },
  {
   "cell_type": "code",
   "execution_count": 62,
   "metadata": {},
   "outputs": [],
   "source": [
    "from sqlalchemy import create_engine\n",
    "from sqlalchemy.orm import sessionmaker, declarative_base\n",
    "from sqlalchemy import Column,Integer,String,DateTime\n",
    "from datetime import datetime"
   ]
  },
  {
   "cell_type": "code",
   "execution_count": 63,
   "metadata": {},
   "outputs": [],
   "source": [
    "Base =declarative_base()\n",
    "class Task(Base):\n",
    "    __tablename__='tasks'\n",
    "    id=Column(Integer, primary_key=True)\n",
    "    task=Column(String)\n",
    "    deadline=Column(DateTime,default=datetime.now())"
   ]
  },
  {
   "cell_type": "code",
   "execution_count": 64,
   "metadata": {},
   "outputs": [],
   "source": [
    "engine=create_engine('sqlite:///mydb.sqlite3')\n",
    "Base.metadata.create_all(engine)"
   ]
  },
  {
   "cell_type": "code",
   "execution_count": 65,
   "metadata": {},
   "outputs": [],
   "source": [
    "def open_db():\n",
    "    engine=create_engine('sqlite:///mydb.sqlite3')\n",
    "    session=sessionmaker(bind=engine)\n",
    "    return session()"
   ]
  },
  {
   "cell_type": "markdown",
   "metadata": {},
   "source": [
    "### ORM"
   ]
  },
  {
   "cell_type": "code",
   "execution_count": 66,
   "metadata": {},
   "outputs": [],
   "source": [
    "db=open_db()\n",
    "db.add(Task(task='learn SQLAlchemy',deadline=datetime(2024,8,1)))\n",
    "db.add(Task(task='happy independence day'))\n",
    "db.add(Task(task='jai hind'))\n",
    "db.add(Task(task='clean the fridge',deadline=datetime(2024,8,23)))\n",
    "db.add(Task(task='generate reports',deadline=datetime(2024,9,16)))\n",
    "db.add(Task(task='pay fees',deadline=datetime(2024,8,23)))\n",
    "db.add(Task(task='celebrate bday',deadline=datetime(2024,8,31)))\n",
    "\n",
    "db.commit()\n",
    "db.close()"
   ]
  },
  {
   "cell_type": "markdown",
   "metadata": {},
   "source": [
    "#quering the database\n",
    "- get all the data\n",
    "- get specific data using filter"
   ]
  },
  {
   "cell_type": "code",
   "execution_count": 67,
   "metadata": {},
   "outputs": [
    {
     "name": "stdout",
     "output_type": "stream",
     "text": [
      "#Row 1 | learn SQLAlchemy               | 2024-08-01 | 00:00:00\n",
      "#Row 2 | happy independence day         | 2024-08-16 | 18:18:41.475554\n",
      "#Row 3 | jai hind                       | 2024-08-16 | 18:18:41.475554\n",
      "#Row 4 | clean the fridge               | 2024-08-23 | 00:00:00\n",
      "#Row 5 | generate reports               | 2024-09-16 | 00:00:00\n",
      "#Row 6 | pay fees                       | 2024-08-23 | 00:00:00\n",
      "#Row 7 | celebrate bday                 | 2024-08-31 | 00:00:00\n"
     ]
    }
   ],
   "source": [
    "# all the data\n",
    "db=open_db()    #open the db\n",
    "tasks= db.query(Task).all() #we get all task as object\n",
    "for item in tasks:\n",
    "    print(f'#Row {item.id} | {item.task:30} | {item.deadline.date()} | {item.deadline.time()}') #to retreive data throght object"
   ]
  },
  {
   "cell_type": "code",
   "execution_count": 68,
   "metadata": {},
   "outputs": [
    {
     "name": "stdout",
     "output_type": "stream",
     "text": [
      "#Row 7 | celebrate bday                 | 2024-08-31 | 00:00:00\n"
     ]
    }
   ],
   "source": [
    "#get item by id\n",
    "id=7\n",
    "db=open_db()\n",
    "task=db.get(Task,id)\n",
    "if task:\n",
    "        print(f'#Row {item.id} | {item.task:30} | {item.deadline.date()} | {item.deadline.time()}')"
   ]
  },
  {
   "cell_type": "code",
   "execution_count": 69,
   "metadata": {},
   "outputs": [
    {
     "name": "stdout",
     "output_type": "stream",
     "text": [
      "#Row 6 | pay fees                       | 2024-08-23 | 00:00:00\n"
     ]
    }
   ],
   "source": [
    "#filter item by title\n",
    "title='pay fees'\n",
    "db=open_db()\n",
    "tasks=db.query(Task).filter(Task.task==title).all()\n",
    "for item in tasks:\n",
    "    print(f'#Row {item.id} | {item.task:30} | {item.deadline.date()} | {item.deadline.time()}')\n",
    "db.close()"
   ]
  },
  {
   "cell_type": "code",
   "execution_count": 72,
   "metadata": {},
   "outputs": [],
   "source": [
    "#filter by date\n",
    "date='16-08-2024'\n",
    "date=datetime.strptime(date,\"%d-%m-%Y\")\n",
    "db=open_db()\n",
    "tasks=db.query(Task).filter(Task.deadline==date).all()\n",
    "for item in tasks:\n",
    "    print(f'#Row {item.id} | {item.task:30} | {item.deadline.date()} | {item.deadline.time()}')\n",
    "db.close()\n"
   ]
  },
  {
   "cell_type": "code",
   "execution_count": 73,
   "metadata": {},
   "outputs": [],
   "source": [
    "#update tasks\n",
    "id=7\n",
    "db=open_db()\n",
    "#to modify anything just create object and proceed further operations using .dot\n",
    "result=db.get(Task,id)  #database.get(table_name, id you want to modify)\n",
    "if result:\n",
    "    result.task='generate student report'\n",
    "    result.deadline=datetime(2024,8,20)\n",
    "    db.commit()\n",
    "db.close()"
   ]
  },
  {
   "cell_type": "code",
   "execution_count": 74,
   "metadata": {},
   "outputs": [
    {
     "name": "stdout",
     "output_type": "stream",
     "text": [
      "item deleted\n"
     ]
    }
   ],
   "source": [
    "#delete item\n",
    "id=6\n",
    "db=open_db()\n",
    "result=db.get(Task,id)\n",
    "if result:\n",
    "    db.delete(result)\n",
    "    db.commit()\n",
    "    print('item deleted')"
   ]
  },
  {
   "cell_type": "code",
   "execution_count": null,
   "metadata": {},
   "outputs": [],
   "source": []
  }
 ],
 "metadata": {
  "kernelspec": {
   "display_name": "base",
   "language": "python",
   "name": "python3"
  },
  "language_info": {
   "codemirror_mode": {
    "name": "ipython",
    "version": 3
   },
   "file_extension": ".py",
   "mimetype": "text/x-python",
   "name": "python",
   "nbconvert_exporter": "python",
   "pygments_lexer": "ipython3",
   "version": "3.12.3"
  }
 },
 "nbformat": 4,
 "nbformat_minor": 2
}
