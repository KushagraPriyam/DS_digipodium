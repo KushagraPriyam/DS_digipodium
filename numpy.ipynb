{
 "cells": [
  {
   "cell_type": "code",
   "execution_count": 2,
   "metadata": {},
   "outputs": [
    {
     "name": "stdout",
     "output_type": "stream",
     "text": [
      "Requirement already satisfied: numpy in c:\\users\\kusha\\miniconda3\\lib\\site-packages (2.0.0)\n"
     ]
    }
   ],
   "source": [
    "!pip install numpy"
   ]
  },
  {
   "cell_type": "code",
   "execution_count": 3,
   "metadata": {},
   "outputs": [],
   "source": [
    "import numpy as np"
   ]
  },
  {
   "cell_type": "markdown",
   "metadata": {},
   "source": [
    "###\n",
    "- create\n",
    "- basic operation\n",
    "- math operation\n",
    "- indexing and slicing \n",
    "- boolean filter"
   ]
  },
  {
   "cell_type": "code",
   "execution_count": 4,
   "metadata": {},
   "outputs": [
    {
     "name": "stdout",
     "output_type": "stream",
     "text": [
      "[1 2 3 4 5]\n",
      "(5,)\n",
      "<class 'numpy.ndarray'>\n"
     ]
    }
   ],
   "source": [
    "x= np.array([1,2,3,4,5])\n",
    "print(x)\n",
    "print(x.shape)\n",
    "print(type(x))"
   ]
  },
  {
   "cell_type": "code",
   "execution_count": 5,
   "metadata": {},
   "outputs": [
    {
     "name": "stdout",
     "output_type": "stream",
     "text": [
      "[[1 2 3]\n",
      " [4 5 6]]\n",
      "(2, 3)\n"
     ]
    }
   ],
   "source": [
    "a=np.array([[1,2,3],[4,5,6]])\n",
    "print(a)\n",
    "print(a.shape)"
   ]
  },
  {
   "cell_type": "code",
   "execution_count": 6,
   "metadata": {},
   "outputs": [
    {
     "name": "stdout",
     "output_type": "stream",
     "text": [
      "[[1 2 3]\n",
      " [4 5 6]\n",
      " [7 8 9]]\n",
      "(3, 3)\n",
      "9\n"
     ]
    }
   ],
   "source": [
    "b=np.array([[1,2,3],[4,5,6],[7,8,9]])\n",
    "print(b)\n",
    "print(b.shape)\n",
    "print(b.size)"
   ]
  },
  {
   "cell_type": "code",
   "execution_count": 7,
   "metadata": {},
   "outputs": [
    {
     "name": "stdout",
     "output_type": "stream",
     "text": [
      "[[0 1 2 3 4 5 6 7 8 9]\n",
      " [0 1 2 3 4 5 6 7 8 9]\n",
      " [0 1 2 3 4 5 6 7 8 9]\n",
      " [0 1 2 3 4 5 6 7 8 9]\n",
      " [0 1 2 3 4 5 6 7 8 9]\n",
      " [0 1 2 3 4 5 6 7 8 9]\n",
      " [0 1 2 3 4 5 6 7 8 9]\n",
      " [0 1 2 3 4 5 6 7 8 9]\n",
      " [0 1 2 3 4 5 6 7 8 9]\n",
      " [0 1 2 3 4 5 6 7 8 9]]\n",
      "(10, 10)\n"
     ]
    }
   ],
   "source": [
    "z=[0,1,2,3,4,5,6,7,8,9]\n",
    "nz=np.array([z]*10)\n",
    "print(nz)\n",
    "print(nz.shape)"
   ]
  },
  {
   "cell_type": "markdown",
   "metadata": {},
   "source": [
    "###\n",
    "- random\n",
    "- arrange\n",
    "- linespace"
   ]
  },
  {
   "cell_type": "code",
   "execution_count": 8,
   "metadata": {},
   "outputs": [
    {
     "data": {
      "text/plain": [
       "array([[0.53421836, 0.65413874, 0.53799176],\n",
       "       [0.56720194, 0.16911963, 0.27912335],\n",
       "       [0.8384584 , 0.10375626, 0.45840959]])"
      ]
     },
     "execution_count": 8,
     "metadata": {},
     "output_type": "execute_result"
    }
   ],
   "source": [
    "#Create an array of the given shape and populate it with random samples from a uniform distribution over [0, 1)\n",
    "np.random.rand(3,3)"
   ]
  },
  {
   "cell_type": "code",
   "execution_count": 9,
   "metadata": {},
   "outputs": [
    {
     "name": "stdout",
     "output_type": "stream",
     "text": [
      "[[ 2  5  5  1  1]\n",
      " [ 0 -5  1  5 -4]\n",
      " [-5 -3  0 -1  4]\n",
      " [ 4 -1 -1  4 -5]\n",
      " [-4  4 -5 -4  1]]\n"
     ]
    }
   ],
   "source": [
    "r1=np.random.randint(-5,6,size=(5,5)) #start value,end value,size=()\n",
    "print(r1)"
   ]
  },
  {
   "cell_type": "code",
   "execution_count": 10,
   "metadata": {},
   "outputs": [
    {
     "data": {
      "text/plain": [
       "array([ 0. ,  0.5,  1. ,  1.5,  2. ,  2.5,  3. ,  3.5,  4. ,  4.5,  5. ,\n",
       "        5.5,  6. ,  6.5,  7. ,  7.5,  8. ,  8.5,  9. ,  9.5, 10. , 10.5,\n",
       "       11. , 11.5, 12. , 12.5, 13. , 13.5, 14. , 14.5, 15. , 15.5, 16. ,\n",
       "       16.5, 17. , 17.5, 18. , 18.5, 19. , 19.5, 20. , 20.5, 21. , 21.5,\n",
       "       22. , 22.5, 23. , 23.5, 24. , 24.5, 25. , 25.5, 26. , 26.5, 27. ,\n",
       "       27.5, 28. , 28.5, 29. , 29.5, 30. , 30.5, 31. , 31.5, 32. , 32.5,\n",
       "       33. , 33.5, 34. , 34.5, 35. , 35.5, 36. , 36.5, 37. , 37.5, 38. ,\n",
       "       38.5, 39. , 39.5, 40. , 40.5, 41. , 41.5, 42. , 42.5, 43. , 43.5,\n",
       "       44. , 44.5, 45. , 45.5, 46. , 46.5, 47. , 47.5, 48. , 48.5, 49. ,\n",
       "       49.5])"
      ]
     },
     "execution_count": 10,
     "metadata": {},
     "output_type": "execute_result"
    }
   ],
   "source": [
    "#arange - start,end,interval\n",
    "np.arange(0,50,.5)"
   ]
  },
  {
   "cell_type": "code",
   "execution_count": 11,
   "metadata": {},
   "outputs": [
    {
     "data": {
      "text/plain": [
       "array([ 0.        ,  5.55555556, 11.11111111, 16.66666667, 22.22222222,\n",
       "       27.77777778, 33.33333333, 38.88888889, 44.44444444, 50.        ])"
      ]
     },
     "execution_count": 11,
     "metadata": {},
     "output_type": "execute_result"
    }
   ],
   "source": [
    "#Return evenly spaced numbers over a specified interval.\n",
    "np.linspace(0,50,10)"
   ]
  },
  {
   "cell_type": "markdown",
   "metadata": {},
   "source": [
    "###\n",
    "array attributes\n",
    "- shape\n",
    "- dtype\n",
    "- ndim\n",
    "- size\n",
    "\n",
    "basic operations\n",
    "- sum\n",
    "- mean\n",
    "- min\n",
    "- max\n",
    "- std\n",
    "- reshape \n",
    "- transpose\n",
    "- flatten"
   ]
  },
  {
   "cell_type": "code",
   "execution_count": 12,
   "metadata": {},
   "outputs": [
    {
     "data": {
      "text/plain": [
       "array([1, 2, 3, 4, 5])"
      ]
     },
     "execution_count": 12,
     "metadata": {},
     "output_type": "execute_result"
    }
   ],
   "source": [
    "x"
   ]
  },
  {
   "cell_type": "code",
   "execution_count": 13,
   "metadata": {},
   "outputs": [
    {
     "data": {
      "text/plain": [
       "dtype('int64')"
      ]
     },
     "execution_count": 13,
     "metadata": {},
     "output_type": "execute_result"
    }
   ],
   "source": [
    "x.dtype"
   ]
  },
  {
   "cell_type": "code",
   "execution_count": 14,
   "metadata": {},
   "outputs": [
    {
     "name": "stdout",
     "output_type": "stream",
     "text": [
      "[[0.84449887 0.6403569  0.80206235]\n",
      " [0.0388043  0.92483042 0.74593705]\n",
      " [0.13674806 0.72215685 0.38793388]]\n"
     ]
    },
    {
     "data": {
      "text/plain": [
       "dtype('float64')"
      ]
     },
     "execution_count": 14,
     "metadata": {},
     "output_type": "execute_result"
    }
   ],
   "source": [
    "x=np.random.rand(3,3)\n",
    "print(x)\n",
    "x.dtype"
   ]
  },
  {
   "cell_type": "code",
   "execution_count": 15,
   "metadata": {},
   "outputs": [
    {
     "data": {
      "text/plain": [
       "2"
      ]
     },
     "execution_count": 15,
     "metadata": {},
     "output_type": "execute_result"
    }
   ],
   "source": [
    "x.ndim  #tells about number of dimesntions array has"
   ]
  },
  {
   "cell_type": "code",
   "execution_count": 16,
   "metadata": {},
   "outputs": [
    {
     "name": "stdout",
     "output_type": "stream",
     "text": [
      "[[[4 1 1]\n",
      "  [1 4 1]\n",
      "  [1 4 4]]\n",
      "\n",
      " [[2 1 4]\n",
      "  [1 1 3]\n",
      "  [2 3 1]]\n",
      "\n",
      " [[4 4 3]\n",
      "  [2 2 2]\n",
      "  [3 3 4]]]\n",
      "3\n"
     ]
    }
   ],
   "source": [
    "z=np.random.randint(1,5,size=(3,3,3))\n",
    "print(z)\n",
    "print(z.ndim)"
   ]
  },
  {
   "cell_type": "code",
   "execution_count": 17,
   "metadata": {},
   "outputs": [
    {
     "data": {
      "text/plain": [
       "27"
      ]
     },
     "execution_count": 17,
     "metadata": {},
     "output_type": "execute_result"
    }
   ],
   "source": [
    "z.size  #product of dims"
   ]
  },
  {
   "cell_type": "code",
   "execution_count": 18,
   "metadata": {},
   "outputs": [
    {
     "name": "stdout",
     "output_type": "stream",
     "text": [
      "2.726231765780753\n",
      "[0.5374806  1.06667169 1.12207947]\n",
      "[1.04063262 1.68559915]\n",
      "0.45437196096345883\n",
      "0.9553188668324996\n",
      "0.0025395435619470774\n",
      "0.32464573563115817\n",
      "0.10539485366349584\n"
     ]
    }
   ],
   "source": [
    "a=np.random.random((2,3))\n",
    "print(a.sum())\n",
    "print(a.sum(axis=0))    #column wise\n",
    "print(a.sum(axis=1))    #row wise\n",
    "\n",
    "print(a.mean())\n",
    "print(a.max())\n",
    "print(a.min())\n",
    "print(a.std())\n",
    "print(a.var())\n",
    "# all  methods can be used with axis"
   ]
  },
  {
   "cell_type": "code",
   "execution_count": 19,
   "metadata": {},
   "outputs": [
    {
     "name": "stdout",
     "output_type": "stream",
     "text": [
      "[[56 25 57 84 25]\n",
      " [34 14 97 66 97]\n",
      " [79 59 70 82 78]\n",
      " [53 46 32 94 52]\n",
      " [25 86 64 56 71]]\n"
     ]
    }
   ],
   "source": [
    "z=np.random.randint(11,99,size=(5,5))\n",
    "print(z)"
   ]
  },
  {
   "cell_type": "code",
   "execution_count": 20,
   "metadata": {},
   "outputs": [
    {
     "name": "stdout",
     "output_type": "stream",
     "text": [
      "transpose\n",
      "[[56 34 79 53 25]\n",
      " [25 14 59 46 86]\n",
      " [57 97 70 32 64]\n",
      " [84 66 82 94 56]\n",
      " [25 97 78 52 71]]\n"
     ]
    }
   ],
   "source": [
    "print('transpose')\n",
    "print(z.transpose())"
   ]
  },
  {
   "cell_type": "code",
   "execution_count": 21,
   "metadata": {},
   "outputs": [
    {
     "name": "stdout",
     "output_type": "stream",
     "text": [
      "flattened\n",
      "[56 25 57 84 25 34 14 97 66 97 79 59 70 82 78 53 46 32 94 52 25 86 64 56\n",
      " 71]\n"
     ]
    }
   ],
   "source": [
    "print('flattened')\n",
    "print(z.flatten())"
   ]
  },
  {
   "cell_type": "code",
   "execution_count": 22,
   "metadata": {},
   "outputs": [
    {
     "name": "stdout",
     "output_type": "stream",
     "text": [
      "[[8 4 7 4 2]\n",
      " [8 2 1 4 3]\n",
      " [8 9 5 2 9]\n",
      " [6 9 6 6 3]]\n"
     ]
    }
   ],
   "source": [
    "a=np.random.randint(1,10,size=(4,5))\n",
    "print(a)"
   ]
  },
  {
   "cell_type": "code",
   "execution_count": 23,
   "metadata": {},
   "outputs": [
    {
     "data": {
      "text/plain": [
       "array([[8, 4, 7, 4, 2],\n",
       "       [8, 2, 1, 4, 3],\n",
       "       [8, 9, 5, 2, 9],\n",
       "       [6, 9, 6, 6, 3]], dtype=int32)"
      ]
     },
     "execution_count": 23,
     "metadata": {},
     "output_type": "execute_result"
    }
   ],
   "source": [
    "a"
   ]
  },
  {
   "cell_type": "code",
   "execution_count": 24,
   "metadata": {},
   "outputs": [
    {
     "name": "stdout",
     "output_type": "stream",
     "text": [
      "[8 4 7 4 2 8 2 1 4 3 8 9 5 2 9 6 9 6 6 3]\n"
     ]
    }
   ],
   "source": [
    "#reshape is used to rehape any matrix into given dim\n",
    "print(a.reshape(20))"
   ]
  },
  {
   "cell_type": "code",
   "execution_count": 25,
   "metadata": {},
   "outputs": [
    {
     "name": "stdout",
     "output_type": "stream",
     "text": [
      "[[8 4 7 4]\n",
      " [2 8 2 1]\n",
      " [4 3 8 9]\n",
      " [5 2 9 6]\n",
      " [9 6 6 3]]\n"
     ]
    }
   ],
   "source": [
    "print(a.reshape(5,4))\n"
   ]
  },
  {
   "cell_type": "code",
   "execution_count": 26,
   "metadata": {},
   "outputs": [
    {
     "name": "stdout",
     "output_type": "stream",
     "text": [
      "[[8 4 7 4 2 8 2 1 4 3]\n",
      " [8 9 5 2 9 6 9 6 6 3]]\n"
     ]
    }
   ],
   "source": [
    "print(a.reshape(2,10))"
   ]
  },
  {
   "cell_type": "code",
   "execution_count": 27,
   "metadata": {},
   "outputs": [
    {
     "name": "stdout",
     "output_type": "stream",
     "text": [
      "[[8 4]\n",
      " [7 4]\n",
      " [2 8]\n",
      " [2 1]\n",
      " [4 3]\n",
      " [8 9]\n",
      " [5 2]\n",
      " [9 6]\n",
      " [9 6]\n",
      " [6 3]]\n"
     ]
    }
   ],
   "source": [
    "print(a.reshape(10,2))"
   ]
  },
  {
   "cell_type": "code",
   "execution_count": 28,
   "metadata": {},
   "outputs": [
    {
     "name": "stdout",
     "output_type": "stream",
     "text": [
      "[[[8 4]\n",
      "  [7 4]]\n",
      "\n",
      " [[2 8]\n",
      "  [2 1]]\n",
      "\n",
      " [[4 3]\n",
      "  [8 9]]\n",
      "\n",
      " [[5 2]\n",
      "  [9 6]]\n",
      "\n",
      " [[9 6]\n",
      "  [6 3]]]\n"
     ]
    }
   ],
   "source": [
    "print(a.reshape(5,2,2))"
   ]
  },
  {
   "cell_type": "code",
   "execution_count": 29,
   "metadata": {},
   "outputs": [
    {
     "name": "stdout",
     "output_type": "stream",
     "text": [
      "[[8 4 7 4 2]\n",
      " [8 2 1 4 3]\n",
      " [8 9 5 2 9]\n",
      " [6 9 6 6 3]]\n"
     ]
    }
   ],
   "source": [
    "print(a)"
   ]
  },
  {
   "cell_type": "code",
   "execution_count": 30,
   "metadata": {},
   "outputs": [
    {
     "name": "stdout",
     "output_type": "stream",
     "text": [
      "[[1 2]\n",
      " [3 4]]\n",
      "[[6 2]\n",
      " [6 3]]\n"
     ]
    }
   ],
   "source": [
    "a=np.array([[1,2],[3,4]])\n",
    "b=np.array([[6,2],[6,3]])\n",
    "print(a)\n",
    "print(b)"
   ]
  },
  {
   "cell_type": "code",
   "execution_count": 31,
   "metadata": {},
   "outputs": [
    {
     "name": "stdout",
     "output_type": "stream",
     "text": [
      "[[7 4]\n",
      " [9 7]]\n",
      "[[-5  0]\n",
      " [-3  1]]\n",
      "[[0.16666667 1.        ]\n",
      " [0.5        1.33333333]]\n",
      "[[ 6  4]\n",
      " [18 12]]\n",
      "[[18  8]\n",
      " [42 18]]\n",
      "[[18  8]\n",
      " [42 18]]\n"
     ]
    }
   ],
   "source": [
    "# when using 2 matrices, shpae must be same\n",
    "print(a+b)\n",
    "print(a-b)\n",
    "print(a/b)\n",
    "print(a*b)\n",
    "print(a@b)\n",
    "print(a.dot(b))"
   ]
  },
  {
   "cell_type": "code",
   "execution_count": 32,
   "metadata": {},
   "outputs": [
    {
     "name": "stdout",
     "output_type": "stream",
     "text": [
      "[[-9 -8]\n",
      " [-7 -6]]\n",
      "[[10 20]\n",
      " [30 40]]\n",
      "[[0.1 0.2]\n",
      " [0.3 0.4]]\n",
      "[[11 12]\n",
      " [13 14]]\n"
     ]
    }
   ],
   "source": [
    "# when using matrix and scalar\n",
    "print(a-10) #broadcasting\n",
    "print(a*10) \n",
    "print(a/10)\n",
    "print(a+10)"
   ]
  },
  {
   "cell_type": "code",
   "execution_count": 33,
   "metadata": {},
   "outputs": [
    {
     "name": "stdout",
     "output_type": "stream",
     "text": [
      "1\n",
      "4\n",
      "3\n"
     ]
    }
   ],
   "source": [
    "#indexing\n",
    "print(a[0,0])\n",
    "print(a[-1,-1])\n",
    "print(b[1,1])"
   ]
  },
  {
   "cell_type": "code",
   "execution_count": 34,
   "metadata": {},
   "outputs": [
    {
     "name": "stdout",
     "output_type": "stream",
     "text": [
      "[[[7 0 2]\n",
      "  [1 7 7]]\n",
      "\n",
      " [[3 6 9]\n",
      "  [2 9 6]]\n",
      "\n",
      " [[7 8 7]\n",
      "  [2 5 9]]]\n"
     ]
    }
   ],
   "source": [
    "k=np.random.randint(0,10,(3,2,3))\n",
    "print(k)"
   ]
  },
  {
   "cell_type": "code",
   "execution_count": 35,
   "metadata": {},
   "outputs": [
    {
     "name": "stdout",
     "output_type": "stream",
     "text": [
      "7\n"
     ]
    }
   ],
   "source": [
    "print(k[2,0,2])"
   ]
  },
  {
   "cell_type": "code",
   "execution_count": 36,
   "metadata": {},
   "outputs": [
    {
     "name": "stdout",
     "output_type": "stream",
     "text": [
      "[[4 5 3 7 5]\n",
      " [5 4 3 1 7]\n",
      " [2 7 8 6 9]\n",
      " [7 9 5 4 8]\n",
      " [4 1 6 5 8]]\n"
     ]
    }
   ],
   "source": [
    "#slicing\n",
    "np.random.seed(seed=342)    #seed to used to fix the random values\n",
    "x=np.random.randint(1,10,size=(5,5))\n",
    "print(x)"
   ]
  },
  {
   "cell_type": "code",
   "execution_count": 37,
   "metadata": {},
   "outputs": [
    {
     "name": "stdout",
     "output_type": "stream",
     "text": [
      "[4 3 1]\n"
     ]
    }
   ],
   "source": [
    "print(x[1,1:4])"
   ]
  },
  {
   "cell_type": "code",
   "execution_count": 38,
   "metadata": {},
   "outputs": [
    {
     "name": "stdout",
     "output_type": "stream",
     "text": [
      "[4 5 2 7 4]\n",
      "[5 7 9 8 8]\n",
      "[[4 5 3]\n",
      " [5 4 3]\n",
      " [2 7 8]\n",
      " [7 9 5]\n",
      " [4 1 6]]\n"
     ]
    }
   ],
   "source": [
    "print(x[:,0])   #select 0 index values from all rows(:)\n",
    "print(x[:,-1])  #select -1 index values from all rows\n",
    "print(x[:,:3])  #select 0:3 index values from all rows"
   ]
  },
  {
   "cell_type": "markdown",
   "metadata": {},
   "source": [
    "boolean filter"
   ]
  },
  {
   "cell_type": "code",
   "execution_count": 39,
   "metadata": {},
   "outputs": [
    {
     "data": {
      "text/plain": [
       "array([[  1,   2,   3,   4],\n",
       "       [  5,   6,   7,   8],\n",
       "       [  9,  10,  11,  12],\n",
       "       [ 13,  14,  15,  16],\n",
       "       [ 17,  18,  19,  20],\n",
       "       [ 21,  22,  23,  24],\n",
       "       [ 25,  26,  27,  28],\n",
       "       [ 29,  30,  31,  32],\n",
       "       [ 33,  34,  35,  36],\n",
       "       [ 37,  38,  39,  40],\n",
       "       [ 41,  42,  43,  44],\n",
       "       [ 45,  46,  47,  48],\n",
       "       [ 49,  50,  51,  52],\n",
       "       [ 53,  54,  55,  56],\n",
       "       [ 57,  58,  59,  60],\n",
       "       [ 61,  62,  63,  64],\n",
       "       [ 65,  66,  67,  68],\n",
       "       [ 69,  70,  71,  72],\n",
       "       [ 73,  74,  75,  76],\n",
       "       [ 77,  78,  79,  80],\n",
       "       [ 81,  82,  83,  84],\n",
       "       [ 85,  86,  87,  88],\n",
       "       [ 89,  90,  91,  92],\n",
       "       [ 93,  94,  95,  96],\n",
       "       [ 97,  98,  99, 100]])"
      ]
     },
     "execution_count": 39,
     "metadata": {},
     "output_type": "execute_result"
    }
   ],
   "source": [
    "x=np.arange(1,101).reshape(25,4)\n",
    "x"
   ]
  },
  {
   "cell_type": "code",
   "execution_count": 40,
   "metadata": {},
   "outputs": [
    {
     "data": {
      "text/plain": [
       "array([[False, False, False, False],\n",
       "       [False, False, False, False],\n",
       "       [False, False, False, False],\n",
       "       [False, False, False, False],\n",
       "       [False, False, False, False],\n",
       "       [False, False, False, False],\n",
       "       [False, False, False, False],\n",
       "       [False, False, False, False],\n",
       "       [False, False, False, False],\n",
       "       [False, False, False, False],\n",
       "       [False, False, False, False],\n",
       "       [False, False, False, False],\n",
       "       [False,  True,  True,  True],\n",
       "       [ True,  True,  True,  True],\n",
       "       [ True,  True,  True,  True],\n",
       "       [ True,  True,  True,  True],\n",
       "       [ True,  True,  True,  True],\n",
       "       [ True,  True,  True,  True],\n",
       "       [ True,  True,  True,  True],\n",
       "       [ True,  True,  True,  True],\n",
       "       [ True,  True,  True,  True],\n",
       "       [ True,  True,  True,  True],\n",
       "       [ True,  True,  True,  True],\n",
       "       [ True,  True,  True,  True],\n",
       "       [ True,  True,  True,  True]])"
      ]
     },
     "execution_count": 40,
     "metadata": {},
     "output_type": "execute_result"
    }
   ],
   "source": [
    "x>=50"
   ]
  },
  {
   "cell_type": "code",
   "execution_count": 41,
   "metadata": {},
   "outputs": [
    {
     "data": {
      "text/plain": [
       "array([ 50,  51,  52,  53,  54,  55,  56,  57,  58,  59,  60,  61,  62,\n",
       "        63,  64,  65,  66,  67,  68,  69,  70,  71,  72,  73,  74,  75,\n",
       "        76,  77,  78,  79,  80,  81,  82,  83,  84,  85,  86,  87,  88,\n",
       "        89,  90,  91,  92,  93,  94,  95,  96,  97,  98,  99, 100])"
      ]
     },
     "execution_count": 41,
     "metadata": {},
     "output_type": "execute_result"
    }
   ],
   "source": [
    "x[x>=50]    #only value>=50"
   ]
  },
  {
   "cell_type": "code",
   "execution_count": 42,
   "metadata": {},
   "outputs": [
    {
     "data": {
      "text/plain": [
       "array([25, 26, 27, 28, 29, 30, 31, 32, 33, 34, 35, 36, 37, 38, 39, 40, 41,\n",
       "       42, 43, 44, 45, 46, 47, 48, 49, 50, 51, 52, 53, 54, 55, 56, 57, 58,\n",
       "       59, 60, 61, 62, 63, 64, 65, 66, 67, 68, 69, 70, 71, 72, 73, 74, 75])"
      ]
     },
     "execution_count": 42,
     "metadata": {},
     "output_type": "execute_result"
    }
   ],
   "source": [
    "x[(x>=25) & (x<=75)]"
   ]
  },
  {
   "cell_type": "markdown",
   "metadata": {},
   "source": [
    "some more operations"
   ]
  },
  {
   "cell_type": "code",
   "execution_count": 43,
   "metadata": {},
   "outputs": [
    {
     "data": {
      "text/plain": [
       "array([[1., 0., 0.],\n",
       "       [0., 1., 0.],\n",
       "       [0., 0., 1.]])"
      ]
     },
     "execution_count": 43,
     "metadata": {},
     "output_type": "execute_result"
    }
   ],
   "source": [
    "#The eye tool returns a 2-D array with  1’s as the diagonal and  0’s elsewhere\n",
    "np.eye(3)"
   ]
  },
  {
   "cell_type": "code",
   "execution_count": 44,
   "metadata": {},
   "outputs": [
    {
     "data": {
      "text/plain": [
       "array([[1, 0, 0, 0, 0],\n",
       "       [0, 1, 0, 0, 0],\n",
       "       [0, 0, 1, 0, 0],\n",
       "       [0, 0, 0, 1, 0],\n",
       "       [0, 0, 0, 0, 1]])"
      ]
     },
     "execution_count": 44,
     "metadata": {},
     "output_type": "execute_result"
    }
   ],
   "source": [
    "np.eye(5,dtype=int) #dtype = int"
   ]
  },
  {
   "cell_type": "code",
   "execution_count": 45,
   "metadata": {},
   "outputs": [
    {
     "data": {
      "text/plain": [
       "array([[1, 0, 0, 0],\n",
       "       [0, 2, 0, 0],\n",
       "       [0, 0, 3, 0],\n",
       "       [0, 0, 0, 4]])"
      ]
     },
     "execution_count": 45,
     "metadata": {},
     "output_type": "execute_result"
    }
   ],
   "source": [
    "np.diag([1,2,3,4]) #add given elements to matrix as diagonal"
   ]
  },
  {
   "cell_type": "code",
   "execution_count": 46,
   "metadata": {},
   "outputs": [],
   "source": [
    "np.set_printoptions(precision=3)"
   ]
  },
  {
   "cell_type": "code",
   "execution_count": 47,
   "metadata": {},
   "outputs": [
    {
     "data": {
      "text/plain": [
       "array([[0.261, 0.765, 0.465],\n",
       "       [0.006, 0.348, 0.575],\n",
       "       [0.915, 0.738, 0.703]])"
      ]
     },
     "execution_count": 47,
     "metadata": {},
     "output_type": "execute_result"
    }
   ],
   "source": [
    "np.random.rand(3,3)"
   ]
  },
  {
   "cell_type": "code",
   "execution_count": 48,
   "metadata": {},
   "outputs": [
    {
     "data": {
      "text/plain": [
       "array([[1., 1., 1., 1., 1.],\n",
       "       [1., 1., 1., 1., 1.],\n",
       "       [1., 1., 1., 1., 1.]])"
      ]
     },
     "execution_count": 48,
     "metadata": {},
     "output_type": "execute_result"
    }
   ],
   "source": [
    "np.ones((3,5))  #make matrix of only 1's of given dim"
   ]
  },
  {
   "cell_type": "code",
   "execution_count": 49,
   "metadata": {},
   "outputs": [
    {
     "data": {
      "text/plain": [
       "array([[0., 0., 0., 0., 0.],\n",
       "       [0., 0., 0., 0., 0.],\n",
       "       [0., 0., 0., 0., 0.]])"
      ]
     },
     "execution_count": 49,
     "metadata": {},
     "output_type": "execute_result"
    }
   ],
   "source": [
    "np.zeros((3,5)) #make matrix of only 0's of given dim"
   ]
  },
  {
   "cell_type": "code",
   "execution_count": 50,
   "metadata": {},
   "outputs": [
    {
     "data": {
      "text/plain": [
       "array([[ 0.841,  0.909,  0.141, -0.757],\n",
       "       [-0.959, -0.279,  0.657,  0.989],\n",
       "       [ 0.412, -0.544, -1.   , -0.537],\n",
       "       [ 0.42 ,  0.991,  0.65 , -0.288],\n",
       "       [-0.961, -0.751,  0.15 ,  0.913],\n",
       "       [ 0.837, -0.009, -0.846, -0.906],\n",
       "       [-0.132,  0.763,  0.956,  0.271],\n",
       "       [-0.664, -0.988, -0.404,  0.551],\n",
       "       [ 1.   ,  0.529, -0.428, -0.992],\n",
       "       [-0.644,  0.296,  0.964,  0.745],\n",
       "       [-0.159, -0.917, -0.832,  0.018],\n",
       "       [ 0.851,  0.902,  0.124, -0.768],\n",
       "       [-0.954, -0.262,  0.67 ,  0.987],\n",
       "       [ 0.396, -0.559, -1.   , -0.522],\n",
       "       [ 0.436,  0.993,  0.637, -0.305],\n",
       "       [-0.966, -0.739,  0.167,  0.92 ],\n",
       "       [ 0.827, -0.027, -0.856, -0.898],\n",
       "       [-0.115,  0.774,  0.951,  0.254],\n",
       "       [-0.677, -0.985, -0.388,  0.566],\n",
       "       [ 1.   ,  0.514, -0.444, -0.994],\n",
       "       [-0.63 ,  0.313,  0.968,  0.733],\n",
       "       [-0.176, -0.923, -0.822,  0.035],\n",
       "       [ 0.86 ,  0.894,  0.106, -0.779],\n",
       "       [-0.948, -0.245,  0.683,  0.984],\n",
       "       [ 0.38 , -0.573, -0.999, -0.506]])"
      ]
     },
     "execution_count": 50,
     "metadata": {},
     "output_type": "execute_result"
    }
   ],
   "source": [
    "np.sin(x)"
   ]
  },
  {
   "cell_type": "code",
   "execution_count": 51,
   "metadata": {},
   "outputs": [
    {
     "data": {
      "text/plain": [
       "array([[27, 21, 23, 34],\n",
       "       [24, 48, 22, 24],\n",
       "       [31, 12, 10, 15],\n",
       "       [48, 28, 17, 35]], dtype=int32)"
      ]
     },
     "execution_count": 51,
     "metadata": {},
     "output_type": "execute_result"
    }
   ],
   "source": [
    "arr2=np.random.randint(10,50,(4,4))\n",
    "arr2"
   ]
  },
  {
   "cell_type": "code",
   "execution_count": 52,
   "metadata": {},
   "outputs": [
    {
     "name": "stdout",
     "output_type": "stream",
     "text": [
      "[27 21 23 34]\n",
      "21\n",
      "[48 28 17 35]\n"
     ]
    }
   ],
   "source": [
    "print(arr2[0])\n",
    "print(arr2[0,1])\n",
    "print(arr2[-1])"
   ]
  },
  {
   "cell_type": "code",
   "execution_count": 53,
   "metadata": {},
   "outputs": [
    {
     "name": "stdout",
     "output_type": "stream",
     "text": [
      "[[27 21 23 34]\n",
      " [24 48 22 24]\n",
      " [31 12 10 15]]\n",
      "[[24 48 22 24]\n",
      " [31 12 10 15]\n",
      " [48 28 17 35]]\n"
     ]
    }
   ],
   "source": [
    "print(arr2[:3])\n",
    "print(arr2[1:])\n"
   ]
  },
  {
   "cell_type": "code",
   "execution_count": 54,
   "metadata": {},
   "outputs": [
    {
     "data": {
      "text/plain": [
       "array([[ True,  True,  True,  True],\n",
       "       [ True,  True,  True,  True],\n",
       "       [ True, False, False, False],\n",
       "       [ True,  True, False,  True]])"
      ]
     },
     "execution_count": 54,
     "metadata": {},
     "output_type": "execute_result"
    }
   ],
   "source": [
    "arr2>20"
   ]
  },
  {
   "cell_type": "code",
   "execution_count": 55,
   "metadata": {},
   "outputs": [
    {
     "ename": "ValueError",
     "evalue": "cannot reshape array of size 12 into shape (4,2)",
     "output_type": "error",
     "traceback": [
      "\u001b[1;31m---------------------------------------------------------------------------\u001b[0m",
      "\u001b[1;31mValueError\u001b[0m                                Traceback (most recent call last)",
      "Cell \u001b[1;32mIn[55], line 2\u001b[0m\n\u001b[0;32m      1\u001b[0m y\u001b[38;5;241m=\u001b[39marr2[arr2\u001b[38;5;241m>\u001b[39m\u001b[38;5;241m20\u001b[39m]\n\u001b[1;32m----> 2\u001b[0m z\u001b[38;5;241m=\u001b[39my\u001b[38;5;241m.\u001b[39mreshape(\u001b[38;5;241m4\u001b[39m,\u001b[38;5;241m2\u001b[39m)\n\u001b[0;32m      3\u001b[0m \u001b[38;5;28mprint\u001b[39m(z)\n",
      "\u001b[1;31mValueError\u001b[0m: cannot reshape array of size 12 into shape (4,2)"
     ]
    }
   ],
   "source": [
    "y=arr2[arr2>20]\n",
    "z=y.reshape(4,2)\n",
    "print(z)"
   ]
  },
  {
   "cell_type": "code",
   "execution_count": 57,
   "metadata": {},
   "outputs": [
    {
     "data": {
      "text/plain": [
       "array([0, 0, 0, 0, 0, 0, 0, 0, 0, 0])"
      ]
     },
     "execution_count": 57,
     "metadata": {},
     "output_type": "execute_result"
    }
   ],
   "source": [
    "#Write a NumPy program to create an array of 10 zeros.\n",
    "arr=np.zeros(10,dtype=int)\n",
    "arr"
   ]
  },
  {
   "cell_type": "code",
   "execution_count": 58,
   "metadata": {},
   "outputs": [
    {
     "data": {
      "text/plain": [
       "array([1, 1, 1, 1, 1, 1, 1, 1, 1, 1])"
      ]
     },
     "execution_count": 58,
     "metadata": {},
     "output_type": "execute_result"
    }
   ],
   "source": [
    "#Write a NumPy program to create an array of 10 ones.\n",
    "np.ones(10,dtype=int)"
   ]
  },
  {
   "cell_type": "code",
   "execution_count": 59,
   "metadata": {},
   "outputs": [
    {
     "data": {
      "text/plain": [
       "array([[8, 3, 2],\n",
       "       [6, 3, 5],\n",
       "       [6, 8, 2]], dtype=int32)"
      ]
     },
     "execution_count": 59,
     "metadata": {},
     "output_type": "execute_result"
    }
   ],
   "source": [
    "np.random.randint(0,9,size=(3,3))"
   ]
  },
  {
   "cell_type": "code",
   "execution_count": 61,
   "metadata": {},
   "outputs": [
    {
     "data": {
      "text/plain": [
       "array([9, 8, 7, 6, 5, 4, 3, 2, 1, 0])"
      ]
     },
     "execution_count": 61,
     "metadata": {},
     "output_type": "execute_result"
    }
   ],
   "source": [
    "arr=np.arange(10)\n",
    "arr[::-1]"
   ]
  },
  {
   "cell_type": "code",
   "execution_count": 68,
   "metadata": {},
   "outputs": [
    {
     "name": "stdout",
     "output_type": "stream",
     "text": [
      "[74 87 98 18 24 19 50 86 61 74]\n",
      "87\n",
      "19\n",
      "61\n"
     ]
    }
   ],
   "source": [
    "#Write a NumPy program to extract all odd numbers from an array.\n",
    "arr=np.random.randint(100,size=10)\n",
    "print(arr)\n",
    "for i in  arr:\n",
    "    \n",
    "    if i%2!=0:\n",
    "        print(i)\n"
   ]
  },
  {
   "cell_type": "code",
   "execution_count": 74,
   "metadata": {},
   "outputs": [
    {
     "name": "stdout",
     "output_type": "stream",
     "text": [
      "4.529135081165946\n",
      "0.5032372312406607\n",
      "0.9075185113168961\n",
      "0.0148089112331935\n",
      "0.2987303964935012\n"
     ]
    }
   ],
   "source": [
    "arr=np.random.rand(3,3)\n",
    "print(np.sum(arr))\n",
    "print(np.mean(arr))\n",
    "print(np.max(arr))\n",
    "print(np.min(arr))\n",
    "print(np.std(arr))"
   ]
  },
  {
   "cell_type": "code",
   "execution_count": 81,
   "metadata": {},
   "outputs": [
    {
     "data": {
      "text/plain": [
       "array([[ 99,  40],\n",
       "       [141,  76]], dtype=int32)"
      ]
     },
     "execution_count": 81,
     "metadata": {},
     "output_type": "execute_result"
    }
   ],
   "source": [
    "#dot product\n",
    "np.random.seed(23)\n",
    "a=np.random.randint(10,size=(2,3))\n",
    "b=np.random.randint(10,size=(2,3))\n",
    "np.dot(a,b.T)   #dot product always works on matrix of shape A(a,b) & B(b,c) producing result of C(a,c)"
   ]
  },
  {
   "cell_type": "code",
   "execution_count": 84,
   "metadata": {},
   "outputs": [
    {
     "name": "stdout",
     "output_type": "stream",
     "text": [
      "[0 3 0 6 2 2 5 7 9 4 7 7 3 5 5]\n",
      "[0 2 3 4 5 6 7 9]\n"
     ]
    }
   ],
   "source": [
    "#print unique values using .unique fn\n",
    "arr=np.random.randint(10,size=15)\n",
    "print(arr)\n",
    "unq=np.unique(arr)\n",
    "print(unq)\n",
    "    "
   ]
  },
  {
   "cell_type": "code",
   "execution_count": 88,
   "metadata": {},
   "outputs": [
    {
     "name": "stdout",
     "output_type": "stream",
     "text": [
      "[4 0 6 9 8 0 1 6 2 0 0 0 2 2 6]\n",
      "[4 0 6 9 8 1 2]\n"
     ]
    }
   ],
   "source": [
    "#print unique values using normal iteration\n",
    "arr=np.random.randint(10,size=15)\n",
    "print(arr)\n",
    "unq=[]\n",
    "for i in arr:\n",
    "    if i not in unq:\n",
    "        unq.append(i)\n",
    "unq=np.array(unq)\n",
    "print(unq)"
   ]
  },
  {
   "cell_type": "code",
   "execution_count": 95,
   "metadata": {},
   "outputs": [
    {
     "name": "stdout",
     "output_type": "stream",
     "text": [
      "[[4 9 5 6 1]\n",
      " [0 4 8 4 4]\n",
      " [5 4 8 5 0]]\n",
      "[[4 5 1]\n",
      " [0 8 4]\n",
      " [5 8 0]]\n"
     ]
    }
   ],
   "source": [
    "arr=np.random.randint(10,size=(3,5))\n",
    "print(arr)\n",
    "print(arr[:,::2])\n"
   ]
  },
  {
   "cell_type": "code",
   "execution_count": 98,
   "metadata": {},
   "outputs": [
    {
     "name": "stdout",
     "output_type": "stream",
     "text": [
      "[[1 7 7 1 0]\n",
      " [9 9 5 0 0]\n",
      " [4 3 0 8 9]\n",
      " [3 5 0 8 5]\n",
      " [7 7 1 7 5]]\n",
      "[[1 7 7 1]\n",
      " [9 9 5 0]\n",
      " [4 3 0 8]]\n"
     ]
    }
   ],
   "source": [
    "arr=np.random.randint(10,size=(5,5))\n",
    "print(arr)\n",
    "print(arr[:3,:4])   #rows slicing, column slicing"
   ]
  },
  {
   "cell_type": "code",
   "execution_count": null,
   "metadata": {},
   "outputs": [],
   "source": []
  }
 ],
 "metadata": {
  "kernelspec": {
   "display_name": "base",
   "language": "python",
   "name": "python3"
  },
  "language_info": {
   "codemirror_mode": {
    "name": "ipython",
    "version": 3
   },
   "file_extension": ".py",
   "mimetype": "text/x-python",
   "name": "python",
   "nbconvert_exporter": "python",
   "pygments_lexer": "ipython3",
   "version": "3.12.3"
  }
 },
 "nbformat": 4,
 "nbformat_minor": 2
}
