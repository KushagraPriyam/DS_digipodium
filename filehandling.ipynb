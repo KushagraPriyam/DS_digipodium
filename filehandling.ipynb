{
 "cells": [
  {
   "cell_type": "code",
   "execution_count": 1,
   "metadata": {},
   "outputs": [],
   "source": [
    "import os"
   ]
  },
  {
   "cell_type": "code",
   "execution_count": 3,
   "metadata": {},
   "outputs": [
    {
     "name": "stdout",
     "output_type": "stream",
     "text": [
      "c:\\Users\\kusha\\OneDrive\\Documents\\DS_digipodium\n"
     ]
    }
   ],
   "source": [
    "#used to get current add\n",
    "base_dir=os.getcwd()\n",
    "print(base_dir)"
   ]
  },
  {
   "cell_type": "code",
   "execution_count": 4,
   "metadata": {},
   "outputs": [
    {
     "name": "stdout",
     "output_type": "stream",
     "text": [
      "['.git', 'basics.ipynb', 'conditions.ipynb', 'filehandling.ipynb', 'functions.ipynb', 'io.ipynb', 'lists.ipynb', 'loops.ipynb', 'pattern1.py', 'practice', 'set_n_dict.ipynb', 'strings.ipynb', 'tuple.ipynb']\n"
     ]
    }
   ],
   "source": [
    "content=os.listdir()\n",
    "print(content)"
   ]
  },
  {
   "cell_type": "code",
   "execution_count": 5,
   "metadata": {},
   "outputs": [
    {
     "name": "stdout",
     "output_type": "stream",
     "text": [
      "total content: 30\n"
     ]
    }
   ],
   "source": [
    "\n",
    "addr=r'C:\\Program Files'\n",
    "content=os.listdir(addr)    #show directories of given add.\n",
    "print(f'total content: {len(content)}')"
   ]
  },
  {
   "cell_type": "code",
   "execution_count": 7,
   "metadata": {},
   "outputs": [
    {
     "data": {
      "text/plain": [
       "['C:\\\\']"
      ]
     },
     "execution_count": 7,
     "metadata": {},
     "output_type": "execute_result"
    }
   ],
   "source": [
    "#list number of drives in pc\n",
    "os.listdrives()"
   ]
  },
  {
   "cell_type": "code",
   "execution_count": 9,
   "metadata": {},
   "outputs": [
    {
     "name": "stdout",
     "output_type": "stream",
     "text": [
      "['.git', 'basics.ipynb', 'conditions.ipynb', 'filehandling.ipynb', 'functions.ipynb', 'io.ipynb', 'lists.ipynb', 'loops.ipynb', 'pattern1.py', 'practice', 'set_n_dict.ipynb', 'strings.ipynb', 'tuple.ipynb']\n"
     ]
    }
   ],
   "source": [
    "#change drive\n",
    "os.chdir(\"C:\")\n",
    "print(os.listdir()) #list all dir in gicen drives"
   ]
  },
  {
   "cell_type": "code",
   "execution_count": 10,
   "metadata": {},
   "outputs": [
    {
     "data": {
      "text/plain": [
       "'c:\\\\Users\\\\kusha\\\\OneDrive\\\\Documents\\\\DS_digipodium'"
      ]
     },
     "execution_count": 10,
     "metadata": {},
     "output_type": "execute_result"
    }
   ],
   "source": [
    "#get current working add\n",
    "os.getcwd()"
   ]
  },
  {
   "cell_type": "code",
   "execution_count": 11,
   "metadata": {},
   "outputs": [],
   "source": [
    "#make and add new dir to given drive add\n",
    "os.makedirs(\"mynotes\",exist_ok=True)"
   ]
  },
  {
   "cell_type": "code",
   "execution_count": 12,
   "metadata": {},
   "outputs": [
    {
     "data": {
      "text/plain": [
       "['.git',\n",
       " 'basics.ipynb',\n",
       " 'conditions.ipynb',\n",
       " 'filehandling.ipynb',\n",
       " 'functions.ipynb',\n",
       " 'io.ipynb',\n",
       " 'lists.ipynb',\n",
       " 'loops.ipynb',\n",
       " 'mynotes',\n",
       " 'pattern1.py',\n",
       " 'practice',\n",
       " 'set_n_dict.ipynb',\n",
       " 'strings.ipynb',\n",
       " 'tuple.ipynb']"
      ]
     },
     "execution_count": 12,
     "metadata": {},
     "output_type": "execute_result"
    }
   ],
   "source": [
    "#get all dir in given add\n",
    "os.listdir()"
   ]
  },
  {
   "cell_type": "markdown",
   "metadata": {},
   "source": [
    "# python file handling\n",
    "'open()'- opens file resources and returns a file object\n",
    "\n",
    "    -modes\n",
    "        -'r'-read mode(default)\n",
    "        -'w'-write\n",
    "        -'a'-append mode"
   ]
  },
  {
   "cell_type": "code",
   "execution_count": 13,
   "metadata": {},
   "outputs": [],
   "source": [
    "#'w' is used to create new file and new write lines in empty file\n",
    "with open ('mynotes/note1.txt','w') as f:\n",
    "    f.write(\"this is my first note:\\n\")\n",
    "    f.write(\"python file handling is super easy\\n\")\n",
    "    f.write(\"you can crate and delete file easily\\n\")"
   ]
  },
  {
   "cell_type": "code",
   "execution_count": 15,
   "metadata": {},
   "outputs": [
    {
     "data": {
      "text/plain": [
       "'c:\\\\Users\\\\kusha\\\\OneDrive\\\\Documents\\\\DS_digipodium'"
      ]
     },
     "execution_count": 15,
     "metadata": {},
     "output_type": "execute_result"
    }
   ],
   "source": [
    "os.getcwd()"
   ]
  },
  {
   "cell_type": "code",
   "execution_count": 17,
   "metadata": {},
   "outputs": [],
   "source": [
    "#'a' is used to append new line to already created file\n",
    "with open ('mynotes/note1.txt','a') as f:\n",
    "    f.write(\"os modeule is the best:\\n\")\n",
    "    f.write(\"appened function is easy\\n\")\n",
    "    f.write(\"practice more\\n\")"
   ]
  },
  {
   "cell_type": "code",
   "execution_count": 24,
   "metadata": {},
   "outputs": [
    {
     "name": "stdout",
     "output_type": "stream",
     "text": [
      "this is my first note:\n",
      "python file handling is super easy\n",
      "you can crate and delete file easily\n",
      "os modeule is the best:\n",
      "appened function is easy\n",
      "practice more\n",
      "os modeule is the best:\n",
      "appened function is easy\n",
      "practice more\n",
      " 221\n"
     ]
    }
   ],
   "source": [
    "# by default \"r\" is used to read file\n",
    "with open ('mynotes/note1.txt') as f:\n",
    "    data=f.read()   #.read() used to read lines\n",
    "\n",
    "print(data,len(data))\n",
    "\n"
   ]
  },
  {
   "cell_type": "code",
   "execution_count": 20,
   "metadata": {},
   "outputs": [
    {
     "name": "stdout",
     "output_type": "stream",
     "text": [
      "from turtle import *\n",
      "i=0\n",
      "side=10\n",
      "#for i in range(10):\n",
      "while(i<side):\n",
      "    rt(360/side)\n",
      "    fd(90)\n",
      "    i=i+1\n",
      "\n",
      "\n",
      "\n",
      "mainloop()\n",
      "\n",
      "\n"
     ]
    }
   ],
   "source": [
    "# by default \"r\" is used to read file\n",
    "with open (r'C:\\Users\\kusha\\OneDrive\\Documents\\DS_digipodium\\pattern1.py') as f:\n",
    "    data=f.read()\n",
    "\n",
    "print(data)\n"
   ]
  },
  {
   "cell_type": "code",
   "execution_count": 55,
   "metadata": {},
   "outputs": [
    {
     "name": "stdout",
     "output_type": "stream",
     "text": [
      "['159.DisplayLLC (1).pdf', '159.DisplayLLC.pdf', '66.+Create+and+Display+LL.pdf', '70.+Search+LL.pdf', 'Aadhar kushagra 2022.pdf', 'Admit Card (1).pdf', 'Admit Card.pdf', 'AI_and_Machine_learning.pdf', 'Analog to Digital.pdf', 'ArrayADT-94.pdf', 'Arrays-3.pdf', 'Chapter-1.pdf', 'computer sci and biosciences eng.pdf', 'computer_and_communication_eng.pdf', 'CSE_core.pdf', 'Data & Signal.pdf', 'Data Communication (IT2104) Course Handout (1).pdf', 'Data Communication (IT2104) Course Handout.pdf', 'Data Science Roadmap - Notes.pdf', 'Data_science_eng.pdf', 'dcom_assignment1.pdf', 'DevOps Roadmap by CloudChamp.pdf', 'download.pdf', 'e-EPIC_TXQ6736375.pdf', 'Error Detection and correction.pdf', 'FAQ_The_Data_Science_Course.pdf', 'IoT_&_intelligence system_eng.pdf', 'IRCTC Retiring Room.pdf', 'IT 2130 L1.pdf', 'IT.pdf', 'Kushagra_Priyam_229302292-Assign-1.pdf', 'Line Coding.pdf', 'MA1201-Assignment 1 updated.pdf', 'MA2101_Course Handout_ Engineering Mathematics III.pdf', 'Mak-MAN-2024-8917037.pdf', 'makeup_receipt_july2024.pdf', 'Maths Assignment 1_cropped.pdf', 'medical.pdf', 'ML Roadmap - Notes.pdf', 'noc23-cs74.pdf', 'noc23-cs85.pdf', 'Precis-Writing-Examples (1).pdf', 'Precis-Writing-Examples.pdf', 'Receipt_RCT2418778_1718909787.pdf', 'reviw_paper (1).pdf', 'reviw_paper (2).pdf', 'reviw_paper.pdf', 'reviw_paper_datacom_final.pdf', 'Signature.pdf', 'Stack_algo1.pdf', 'TRANSMISSION IMPAIRMENT.pdf', 'Transmission Media.pdf', 'travel_site.pdf', 'TXQ6736375.pdf', 'University Registration Number.pdf', 'Web capture_23-1-2024_201612_.pdf', 'Web Dev Syllabus.pdf']\n",
      "57\n"
     ]
    }
   ],
   "source": [
    "items=os.listdir(\"C:/Users/kusha/Downloads\")\n",
    "pdfs=list(filter(lambda file: file.endswith('.pdf'),items))  \n",
    "print(pdfs)\n",
    "print(len(pdfs))"
   ]
  },
  {
   "cell_type": "code",
   "execution_count": 57,
   "metadata": {},
   "outputs": [
    {
     "name": "stdout",
     "output_type": "stream",
     "text": [
      "159.DisplayLLC (1).pdf                             24.93 KB\n",
      "159.DisplayLLC.pdf                                 24.93 KB\n",
      "66.+Create+and+Display+LL.pdf                      24.93 KB\n",
      "70.+Search+LL.pdf                                  26.59 KB\n",
      "Aadhar kushagra 2022.pdf                           540.02 KB\n",
      "Admit Card (1).pdf                                 78.62 KB\n",
      "Admit Card.pdf                                     78.60 KB\n",
      "AI_and_Machine_learning.pdf                        560.90 KB\n",
      "Analog to Digital.pdf                              842.76 KB\n",
      "ArrayADT-94.pdf                                    20.57 KB\n",
      "Arrays-3.pdf                                       36.88 KB\n",
      "Chapter-1.pdf                                      925.98 KB\n",
      "computer sci and biosciences eng.pdf               283.88 KB\n",
      "computer_and_communication_eng.pdf                 355.00 KB\n",
      "CSE_core.pdf                                       685.35 KB\n",
      "Data & Signal.pdf                                  759.67 KB\n",
      "Data Communication (IT2104) Course Handout (1).pdf 219.48 KB\n",
      "Data Communication (IT2104) Course Handout.pdf     219.48 KB\n",
      "Data Science Roadmap - Notes.pdf                   84.05 KB\n",
      "Data_science_eng.pdf                               709.65 KB\n",
      "dcom_assignment1.pdf                               117.50 KB\n",
      "DevOps Roadmap by CloudChamp.pdf                   14886.34 KB\n",
      "download.pdf                                       540.02 KB\n",
      "e-EPIC_TXQ6736375.pdf                              3130.68 KB\n",
      "Error Detection and correction.pdf                 1633.78 KB\n",
      "FAQ_The_Data_Science_Course.pdf                    306.10 KB\n",
      "IoT_&_intelligence system_eng.pdf                  524.11 KB\n",
      "IRCTC Retiring Room.pdf                            134.53 KB\n",
      "IT 2130 L1.pdf                                     758.23 KB\n",
      "IT.pdf                                             621.33 KB\n",
      "Kushagra_Priyam_229302292-Assign-1.pdf             5043.37 KB\n",
      "Line Coding.pdf                                    1019.13 KB\n",
      "MA1201-Assignment 1 updated.pdf                    286.19 KB\n",
      "MA2101_Course Handout_ Engineering Mathematics III.pdf 244.36 KB\n",
      "Mak-MAN-2024-8917037.pdf                           44.91 KB\n",
      "makeup_receipt_july2024.pdf                        44.91 KB\n",
      "Maths Assignment 1_cropped.pdf                     5077.69 KB\n",
      "medical.pdf                                        565.90 KB\n",
      "ML Roadmap - Notes.pdf                             83.36 KB\n",
      "noc23-cs74.pdf                                     481.31 KB\n",
      "noc23-cs85.pdf                                     481.27 KB\n",
      "Precis-Writing-Examples (1).pdf                    74.23 KB\n",
      "Precis-Writing-Examples.pdf                        74.23 KB\n",
      "Receipt_RCT2418778_1718909787.pdf                  201.59 KB\n",
      "reviw_paper (1).pdf                                234.39 KB\n",
      "reviw_paper (2).pdf                                234.22 KB\n",
      "reviw_paper.pdf                                    234.39 KB\n",
      "reviw_paper_datacom_final.pdf                      234.22 KB\n",
      "Signature.pdf                                      54.65 KB\n",
      "Stack_algo1.pdf                                    128.95 KB\n",
      "TRANSMISSION IMPAIRMENT.pdf                        386.02 KB\n",
      "Transmission Media.pdf                             1127.61 KB\n",
      "travel_site.pdf                                    89.89 KB\n",
      "TXQ6736375.pdf                                     700.33 KB\n",
      "University Registration Number.pdf                 540.02 KB\n",
      "Web capture_23-1-2024_201612_.pdf                  65.61 KB\n",
      "Web Dev Syllabus.pdf                               956.34 KB\n"
     ]
    }
   ],
   "source": [
    "for file  in pdfs:\n",
    "    path=f'C:/Users/kusha/Downloads/{file}'\n",
    "    size=os.path.getsize(path)\n",
    "    print(f'{file:50} {size/1024:.2f} KB')\n"
   ]
  },
  {
   "cell_type": "code",
   "execution_count": null,
   "metadata": {},
   "outputs": [],
   "source": []
  }
 ],
 "metadata": {
  "kernelspec": {
   "display_name": "base",
   "language": "python",
   "name": "python3"
  },
  "language_info": {
   "codemirror_mode": {
    "name": "ipython",
    "version": 3
   },
   "file_extension": ".py",
   "mimetype": "text/x-python",
   "name": "python",
   "nbconvert_exporter": "python",
   "pygments_lexer": "ipython3",
   "version": "3.12.3"
  }
 },
 "nbformat": 4,
 "nbformat_minor": 2
}
