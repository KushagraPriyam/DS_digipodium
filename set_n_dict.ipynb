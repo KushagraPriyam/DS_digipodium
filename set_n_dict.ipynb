{
 "cells": [
  {
   "cell_type": "code",
   "execution_count": 2,
   "metadata": {},
   "outputs": [
    {
     "name": "stdout",
     "output_type": "stream",
     "text": [
      "set()\n",
      "{1, 2, 3, 4, 5, 6, 8}\n",
      "{'banana', 'cherry', 'apple'}\n",
      "{'apple', 23.4}\n",
      "{1, 2, 3, 4, 5, 6, 7, 8, 9}\n",
      "{'y', 't', 'e', ' ', 'o', 'a', 'p', 'h', 'r'}\n"
     ]
    }
   ],
   "source": [
    "x=set()\n",
    "print(x)\n",
    "y={1,2,3,4,5,6,8}\n",
    "print(y)\n",
    "fruits={\"apple\",\"banana\",'cherry'}\n",
    "print(fruits)\n",
    "data={\"apple\",23.4}\n",
    "print(data)\n",
    "a=set([1,2,3,4,5,6,7,8,9])\n",
    "b=set(\"harry potter\")\n",
    "print(a)\n",
    "\n",
    "print(b)"
   ]
  },
  {
   "cell_type": "code",
   "execution_count": 3,
   "metadata": {},
   "outputs": [
    {
     "name": "stdout",
     "output_type": "stream",
     "text": [
      "{'hero of ages', 'the well of creation', 'the final empire'}\n"
     ]
    }
   ],
   "source": [
    "a=set()\n",
    "a.add(\"the final empire\")\n",
    "a.add(\"hero of ages\")\n",
    "a.add(\"the well of creation\")\n",
    "print(a)"
   ]
  },
  {
   "cell_type": "code",
   "execution_count": 4,
   "metadata": {},
   "outputs": [],
   "source": [
    "a.update([\"appleseed\",\"applepie\",\"applecider\"])"
   ]
  },
  {
   "cell_type": "code",
   "execution_count": 5,
   "metadata": {},
   "outputs": [
    {
     "data": {
      "text/plain": [
       "{'applecider',\n",
       " 'applepie',\n",
       " 'appleseed',\n",
       " 'hero of ages',\n",
       " 'the final empire',\n",
       " 'the well of creation'}"
      ]
     },
     "execution_count": 5,
     "metadata": {},
     "output_type": "execute_result"
    }
   ],
   "source": [
    "a"
   ]
  },
  {
   "cell_type": "code",
   "execution_count": 6,
   "metadata": {},
   "outputs": [
    {
     "name": "stdout",
     "output_type": "stream",
     "text": [
      "{'appleseed', 'applepie', 'the final empire', 'hero of ages', 'the well of creation', 'applecider'}\n"
     ]
    }
   ],
   "source": [
    "a.add(\"appleseed\")\n",
    "print(a)"
   ]
  },
  {
   "cell_type": "code",
   "execution_count": 7,
   "metadata": {},
   "outputs": [
    {
     "name": "stdout",
     "output_type": "stream",
     "text": [
      "{1, 2, 3, 4, 5}\n",
      "{1, 2, 3, 4, 5}\n",
      "{1, 2, 3, 4, 5, 6, 7, 8}\n"
     ]
    }
   ],
   "source": [
    "# union\n",
    "a={1,2,3}\n",
    "b={3,4,5}\n",
    "c={6,7,8}\n",
    "\n",
    "ab=a.union(b)\n",
    "\n",
    "print(ab)\n",
    "\n",
    "print(a.union(a,b))\n",
    "\n",
    "print(a|b|c)    #| used for union"
   ]
  },
  {
   "cell_type": "code",
   "execution_count": 8,
   "metadata": {},
   "outputs": [
    {
     "name": "stdout",
     "output_type": "stream",
     "text": [
      "{3}\n",
      "{3}\n",
      "set()\n",
      "set()\n"
     ]
    }
   ],
   "source": [
    "# intersection\n",
    "print(a.intersection(b))\n",
    "\n",
    "print(a & b)    #& used for intersection\n",
    "\n",
    "print(a & c)\n",
    "\n",
    "print(a & b & c)"
   ]
  },
  {
   "cell_type": "code",
   "execution_count": 9,
   "metadata": {},
   "outputs": [
    {
     "name": "stdout",
     "output_type": "stream",
     "text": [
      "{1, 2}\n",
      "{4, 5}\n",
      "{4, 5}\n",
      "{1, 2}\n"
     ]
    }
   ],
   "source": [
    "# difference\n",
    "print(a.difference(b))\n",
    "\n",
    "print(b.difference(a))\n",
    "\n",
    "print(b-a)\n",
    "\n",
    "print(a-b)"
   ]
  },
  {
   "cell_type": "markdown",
   "metadata": {},
   "source": [
    "### Dictionary"
   ]
  },
  {
   "cell_type": "code",
   "execution_count": 10,
   "metadata": {},
   "outputs": [],
   "source": [
    "data=['alex',True,False,29,'new york','photographer']\n",
    "\n",
    "datadict={\n",
    "    'name':'alex',\n",
    "    'ismarried':True,\n",
    "    'haschildren':False,\n",
    "    'age':29,\n",
    "    'city':'new york',\n",
    "    'profession':'photographer',\n",
    "    'gender':''\n",
    "}"
   ]
  },
  {
   "cell_type": "code",
   "execution_count": 11,
   "metadata": {},
   "outputs": [
    {
     "data": {
      "text/plain": [
       "{'name': 'alex',\n",
       " 'ismarried': True,\n",
       " 'haschildren': False,\n",
       " 'age': 29,\n",
       " 'city': 'new york',\n",
       " 'profession': 'photographer',\n",
       " 'gender': ''}"
      ]
     },
     "execution_count": 11,
     "metadata": {},
     "output_type": "execute_result"
    }
   ],
   "source": [
    "datadict\n"
   ]
  },
  {
   "cell_type": "code",
   "execution_count": 12,
   "metadata": {},
   "outputs": [],
   "source": [
    "movies={}   #empty dict"
   ]
  },
  {
   "cell_type": "code",
   "execution_count": 13,
   "metadata": {},
   "outputs": [],
   "source": [
    "#dict using constructor\n",
    "expenditure= dict(\n",
    "    food=500,\n",
    "    rent=1500,\n",
    "    insurance=200\n",
    ")"
   ]
  },
  {
   "cell_type": "code",
   "execution_count": 14,
   "metadata": {},
   "outputs": [
    {
     "name": "stdout",
     "output_type": "stream",
     "text": [
      "{'food': 500, 'rent': 1500, 'insurance': 200}\n"
     ]
    }
   ],
   "source": [
    "print(expenditure)"
   ]
  },
  {
   "cell_type": "markdown",
   "metadata": {},
   "source": [
    "### \n",
    "    -creating\n",
    "    -accessing\n",
    "    -add\n",
    "    -remove\n",
    "    -traverse"
   ]
  },
  {
   "cell_type": "code",
   "execution_count": 15,
   "metadata": {},
   "outputs": [
    {
     "name": "stdout",
     "output_type": "stream",
     "text": [
      "alex\n",
      "True\n",
      "1500\n"
     ]
    }
   ],
   "source": [
    "print(datadict['name'])\n",
    "print(datadict['ismarried'])\n",
    "print(expenditure['rent'])\n",
    "#print(expenditure['drink']) error"
   ]
  },
  {
   "cell_type": "code",
   "execution_count": 16,
   "metadata": {},
   "outputs": [
    {
     "name": "stdout",
     "output_type": "stream",
     "text": [
      "new york\n",
      "True\n",
      "1500\n",
      "None\n",
      "300\n"
     ]
    }
   ],
   "source": [
    "print(datadict.get('city'))\n",
    "print(datadict.get('ismarried'))\n",
    "print(expenditure.get('rent'))\n",
    "print(expenditure.get('drink')) #.get do not give error but return none if not in dict\n",
    "print(expenditure.get('drink',300)) #.get return given value if not present\n"
   ]
  },
  {
   "cell_type": "code",
   "execution_count": 17,
   "metadata": {},
   "outputs": [
    {
     "name": "stdout",
     "output_type": "stream",
     "text": [
      "{'deadpool': 'shawn levy', 'RRR': 'ss rajamauli', 'oppenheimer': 'chris nolan'}\n"
     ]
    }
   ],
   "source": [
    "#key values can be added to a dict like this\n",
    "movies['deadpool']=\"shawn levy\"\n",
    "movies['RRR']=\"ss rajamauli\"\n",
    "movies['oppenheimer']=\"chris nolan\"\n",
    "print(movies)"
   ]
  },
  {
   "cell_type": "code",
   "execution_count": 18,
   "metadata": {},
   "outputs": [
    {
     "name": "stdout",
     "output_type": "stream",
     "text": [
      "6 {'deadpool': 'shawn levy', 'RRR': 'ss rajamauli', 'oppenheimer': 'chris nolan', 'dark knight': 'chris nolan', '3idiots': 'raju hirani', 'avengers endgame': 'russo bros'}\n"
     ]
    }
   ],
   "source": [
    "#update is used to pass a dict to a dict\n",
    "movies.update(\n",
    "    {\n",
    "    'dark knight':'chris nolan',\n",
    "    '3idiots':'raju hirani',\n",
    "    'avengers endgame':'russo bros',\n",
    "    }\n",
    ")\n",
    "print(len(movies),movies)"
   ]
  },
  {
   "cell_type": "code",
   "execution_count": 19,
   "metadata": {},
   "outputs": [
    {
     "name": "stdout",
     "output_type": "stream",
     "text": [
      "{'name': 'george', 'ismarried': True, 'haschildren': False, 'age': 29, 'city': 'new york', 'profession': 'photographer', 'gender': '', 'income': '$5000'}\n"
     ]
    }
   ],
   "source": [
    "datadict['name']=\"george\"   #modification of already given key\n",
    "datadict['income']='$5000'  #addnew key value to dict\n",
    "print(datadict)\n"
   ]
  },
  {
   "cell_type": "code",
   "execution_count": 20,
   "metadata": {},
   "outputs": [
    {
     "data": {
      "text/plain": [
       "'ss rajamauli'"
      ]
     },
     "execution_count": 20,
     "metadata": {},
     "output_type": "execute_result"
    }
   ],
   "source": [
    "movies.pop('RRR')   #pop used to remove an element from dict\n"
   ]
  },
  {
   "cell_type": "code",
   "execution_count": 21,
   "metadata": {},
   "outputs": [
    {
     "name": "stdout",
     "output_type": "stream",
     "text": [
      "{'deadpool': 'shawn levy', 'oppenheimer': 'chris nolan', 'dark knight': 'chris nolan', '3idiots': 'raju hirani', 'avengers endgame': 'russo bros'}\n"
     ]
    }
   ],
   "source": [
    "print(movies)"
   ]
  },
  {
   "cell_type": "markdown",
   "metadata": {},
   "source": [
    "for loop in dict will always iterate over keys"
   ]
  },
  {
   "cell_type": "code",
   "execution_count": 22,
   "metadata": {},
   "outputs": [
    {
     "name": "stdout",
     "output_type": "stream",
     "text": [
      "name\n",
      "ismarried\n",
      "haschildren\n",
      "age\n",
      "city\n",
      "profession\n",
      "gender\n",
      "income\n"
     ]
    }
   ],
   "source": [
    "for i in datadict:\n",
    "    print(i)    #only keys"
   ]
  },
  {
   "cell_type": "code",
   "execution_count": 23,
   "metadata": {},
   "outputs": [
    {
     "name": "stdout",
     "output_type": "stream",
     "text": [
      "george\n",
      "True\n",
      "False\n",
      "29\n",
      "new york\n",
      "photographer\n",
      "\n",
      "$5000\n"
     ]
    }
   ],
   "source": [
    "for i in datadict:\n",
    "    print(datadict[i])  #only values"
   ]
  },
  {
   "cell_type": "code",
   "execution_count": 24,
   "metadata": {},
   "outputs": [
    {
     "name": "stdout",
     "output_type": "stream",
     "text": [
      "name george\n",
      "ismarried True\n",
      "haschildren False\n",
      "age 29\n",
      "city new york\n",
      "profession photographer\n",
      "gender \n",
      "income $5000\n"
     ]
    }
   ],
   "source": [
    "for i,v in datadict.items():\n",
    "    print(i,v)  #comb of key value"
   ]
  },
  {
   "cell_type": "code",
   "execution_count": 25,
   "metadata": {},
   "outputs": [
    {
     "data": {
      "text/plain": [
       "dict_items([('name', 'george'), ('ismarried', True), ('haschildren', False), ('age', 29), ('city', 'new york'), ('profession', 'photographer'), ('gender', ''), ('income', '$5000')])"
      ]
     },
     "execution_count": 25,
     "metadata": {},
     "output_type": "execute_result"
    }
   ],
   "source": [
    "datadict.items()"
   ]
  },
  {
   "cell_type": "code",
   "execution_count": 26,
   "metadata": {},
   "outputs": [
    {
     "data": {
      "text/plain": [
       "dict_keys(['name', 'ismarried', 'haschildren', 'age', 'city', 'profession', 'gender', 'income'])"
      ]
     },
     "execution_count": 26,
     "metadata": {},
     "output_type": "execute_result"
    }
   ],
   "source": [
    "datadict.keys()"
   ]
  },
  {
   "cell_type": "code",
   "execution_count": 27,
   "metadata": {},
   "outputs": [
    {
     "data": {
      "text/plain": [
       "dict_values(['george', True, False, 29, 'new york', 'photographer', '', '$5000'])"
      ]
     },
     "execution_count": 27,
     "metadata": {},
     "output_type": "execute_result"
    }
   ],
   "source": [
    "datadict.values()"
   ]
  },
  {
   "cell_type": "markdown",
   "metadata": {},
   "source": [
    "#### nested dictionary"
   ]
  },
  {
   "cell_type": "code",
   "execution_count": 28,
   "metadata": {},
   "outputs": [],
   "source": [
    "report={\n",
    "    '01':{\n",
    "        'name':'alex',\n",
    "        'subject': {\n",
    "            'maths':97,\n",
    "            'science':89,\n",
    "            'english':92\n",
    "            \n",
    "        }\n",
    "    },\n",
    "    '02':{\n",
    "        'name':'john',\n",
    "        'subject': {\n",
    "            'maths':91,\n",
    "            'science':83,\n",
    "            'english':97\n",
    "            \n",
    "        }\n",
    "    }\n",
    "}"
   ]
  },
  {
   "cell_type": "code",
   "execution_count": 30,
   "metadata": {},
   "outputs": [],
   "source": [
    "from pprint import pp"
   ]
  },
  {
   "cell_type": "code",
   "execution_count": 31,
   "metadata": {},
   "outputs": [
    {
     "name": "stdout",
     "output_type": "stream",
     "text": [
      "{'01': {'name': 'alex', 'subject': {'maths': 97, 'science': 89, 'english': 92}},\n",
      " '02': {'name': 'john', 'subject': {'maths': 91, 'science': 83, 'english': 97}}}\n"
     ]
    }
   ],
   "source": [
    "pp(report)"
   ]
  },
  {
   "cell_type": "code",
   "execution_count": 32,
   "metadata": {},
   "outputs": [
    {
     "name": "stdout",
     "output_type": "stream",
     "text": [
      "{'year': [2029, 2020, 2021, 2022, 2023], 'rainfall': [100, 200, 150, 300, 250]}\n"
     ]
    }
   ],
   "source": [
    "rainfall_data={\n",
    "    'year':[2029,2020,2021,2022,2023],\n",
    "    'rainfall':[100,200,150,300,250]\n",
    "\n",
    "}\n",
    "print(rainfall_data)"
   ]
  },
  {
   "cell_type": "code",
   "execution_count": null,
   "metadata": {},
   "outputs": [],
   "source": []
  }
 ],
 "metadata": {
  "kernelspec": {
   "display_name": "base",
   "language": "python",
   "name": "python3"
  },
  "language_info": {
   "codemirror_mode": {
    "name": "ipython",
    "version": 3
   },
   "file_extension": ".py",
   "mimetype": "text/x-python",
   "name": "python",
   "nbconvert_exporter": "python",
   "pygments_lexer": "ipython3",
   "version": "3.12.3"
  }
 },
 "nbformat": 4,
 "nbformat_minor": 2
}
