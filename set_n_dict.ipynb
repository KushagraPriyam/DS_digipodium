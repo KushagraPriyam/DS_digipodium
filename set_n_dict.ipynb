{
 "cells": [
  {
   "cell_type": "code",
   "execution_count": 3,
   "metadata": {},
   "outputs": [
    {
     "name": "stdout",
     "output_type": "stream",
     "text": [
      "set()\n",
      "{1, 2, 3, 4, 5, 6, 8}\n",
      "{'cherry', 'banana', 'apple'}\n",
      "{'apple', 23.4}\n",
      "{1, 2, 3, 4, 5, 6, 7, 8, 9}\n",
      "{'p', ' ', 'r', 'y', 'h', 'o', 'e', 't', 'a'}\n"
     ]
    }
   ],
   "source": [
    "x=set()\n",
    "print(x)\n",
    "y={1,2,3,4,5,6,8}\n",
    "print(y)\n",
    "fruits={\"apple\",\"banana\",'cherry'}\n",
    "print(fruits)\n",
    "data={\"apple\",23.4}\n",
    "print(data)\n",
    "a=set([1,2,3,4,5,6,7,8,9])\n",
    "b=set(\"harry potter\")\n",
    "print(a)\n",
    "\n",
    "print(b)"
   ]
  },
  {
   "cell_type": "code",
   "execution_count": 4,
   "metadata": {},
   "outputs": [
    {
     "name": "stdout",
     "output_type": "stream",
     "text": [
      "{'the well of creation', 'the final empire', 'hero of ages'}\n"
     ]
    }
   ],
   "source": [
    "a=set()\n",
    "a.add(\"the final empire\")\n",
    "a.add(\"hero of ages\")\n",
    "a.add(\"the well of creation\")\n",
    "print(a)"
   ]
  },
  {
   "cell_type": "code",
   "execution_count": 6,
   "metadata": {},
   "outputs": [],
   "source": [
    "a.update([\"appleseed\",\"applepie\",\"applecider\"])"
   ]
  },
  {
   "cell_type": "code",
   "execution_count": 11,
   "metadata": {},
   "outputs": [
    {
     "data": {
      "text/plain": [
       "{'applecider',\n",
       " 'applepie',\n",
       " 'appleseed',\n",
       " 'hero of ages',\n",
       " 'the final empire',\n",
       " 'the well of creation'}"
      ]
     },
     "execution_count": 11,
     "metadata": {},
     "output_type": "execute_result"
    }
   ],
   "source": [
    "a"
   ]
  },
  {
   "cell_type": "code",
   "execution_count": 13,
   "metadata": {},
   "outputs": [
    {
     "name": "stdout",
     "output_type": "stream",
     "text": [
      "{'the well of creation', 'applecider', 'appleseed', 'the final empire', 'applepie', 'hero of ages'}\n"
     ]
    }
   ],
   "source": [
    "a.add(\"appleseed\")\n",
    "print(a)"
   ]
  },
  {
   "cell_type": "code",
   "execution_count": 17,
   "metadata": {},
   "outputs": [
    {
     "name": "stdout",
     "output_type": "stream",
     "text": [
      "{1, 2, 3, 4, 5}\n",
      "{1, 2, 3, 4, 5}\n",
      "{1, 2, 3, 4, 5, 6, 7, 8}\n"
     ]
    }
   ],
   "source": [
    "# union\n",
    "a={1,2,3}\n",
    "b={3,4,5}\n",
    "c={6,7,8}\n",
    "\n",
    "ab=a.union(b)\n",
    "\n",
    "print(ab)\n",
    "\n",
    "print(a.union(a,b))\n",
    "\n",
    "print(a|b|c)    #| used for union"
   ]
  },
  {
   "cell_type": "code",
   "execution_count": 19,
   "metadata": {},
   "outputs": [
    {
     "name": "stdout",
     "output_type": "stream",
     "text": [
      "{3}\n",
      "{3}\n",
      "set()\n",
      "set()\n"
     ]
    }
   ],
   "source": [
    "# intersection\n",
    "print(a.intersection(b))\n",
    "\n",
    "print(a & b)    #& used for intersection\n",
    "\n",
    "print(a & c)\n",
    "\n",
    "print(a & b & c)"
   ]
  },
  {
   "cell_type": "code",
   "execution_count": 22,
   "metadata": {},
   "outputs": [
    {
     "name": "stdout",
     "output_type": "stream",
     "text": [
      "{1, 2}\n",
      "{4, 5}\n",
      "{4, 5}\n",
      "{1, 2}\n"
     ]
    }
   ],
   "source": [
    "# difference\n",
    "print(a.difference(b))\n",
    "\n",
    "print(b.difference(a))\n",
    "\n",
    "print(b-a)\n",
    "\n",
    "print(a-b)"
   ]
  },
  {
   "cell_type": "code",
   "execution_count": null,
   "metadata": {},
   "outputs": [],
   "source": []
  }
 ],
 "metadata": {
  "kernelspec": {
   "display_name": "base",
   "language": "python",
   "name": "python3"
  },
  "language_info": {
   "codemirror_mode": {
    "name": "ipython",
    "version": 3
   },
   "file_extension": ".py",
   "mimetype": "text/x-python",
   "name": "python",
   "nbconvert_exporter": "python",
   "pygments_lexer": "ipython3",
   "version": "3.12.3"
  }
 },
 "nbformat": 4,
 "nbformat_minor": 2
}
