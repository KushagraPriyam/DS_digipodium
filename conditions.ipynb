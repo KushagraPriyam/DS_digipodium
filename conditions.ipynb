{
 "cells": [
  {
   "cell_type": "markdown",
   "metadata": {},
   "source": [
    "### conndition\n",
    "- 'if'\n",
    "- 'if else'\n",
    "- 'if elif'\n",
    "- 'match case'"
   ]
  },
  {
   "cell_type": "code",
   "execution_count": 7,
   "metadata": {},
   "outputs": [
    {
     "name": "stdout",
     "output_type": "stream",
     "text": [
      "dfdssdfsdfsd,you have a long name of lenth 12\n"
     ]
    }
   ],
   "source": [
    "name=input(\"enter your name\")\n",
    "\n",
    "if (len(name)>=4):     #if (condition) :\n",
    "    print(f'{name},you have a long name of lenth {len(name)}')          \n",
    "else:                               \n",
    "    print(f'{name} is short of length {len(name)}')                  \n"
   ]
  },
  {
   "cell_type": "code",
   "execution_count": 13,
   "metadata": {},
   "outputs": [
    {
     "name": "stdout",
     "output_type": "stream",
     "text": [
      "jh is consize of length 2\n",
      "jh is short of length 2\n"
     ]
    }
   ],
   "source": [
    "name=input(\"enter your name\")\n",
    "\n",
    "if (len(name)==0):\n",
    "    print(f'u dont have a name')      \n",
    "if (len(name)<=4):\n",
    "    print(f'{name} is consize of length {len(name)}')      \n",
    "if (len(name)<10):                            \n",
    "    print(f'{name} is short of length {len(name)}')\n",
    "if (len(name)>=10):     \n",
    "    print(f'{name},you have a long name of lenth {len(name)}')           "
   ]
  },
  {
   "cell_type": "code",
   "execution_count": 17,
   "metadata": {},
   "outputs": [
    {
     "name": "stdout",
     "output_type": "stream",
     "text": [
      "welcome user\n"
     ]
    }
   ],
   "source": [
    "username = input(\"enter the username\")\n",
    "password = input(\"enter the password\")\n",
    "if (username =='admin' and password =='admin'):\n",
    "    print(\"welcome user\")\n",
    "else:\n",
    "    print(\"nikal yaha se\")"
   ]
  },
  {
   "cell_type": "code",
   "execution_count": 34,
   "metadata": {},
   "outputs": [
    {
     "name": "stdout",
     "output_type": "stream",
     "text": [
      "invalid input\n"
     ]
    }
   ],
   "source": [
    "# if-elif ladder\n",
    "marks=int(input(\"enter your marks\"))\n",
    "if marks<=100:\n",
    "    if marks>=85:\n",
    "        print(\"A grade\")\n",
    "    elif marks>=70:\n",
    "        print(\"B grade\")\n",
    "    elif marks>=50:\n",
    "        print(\"C grade\") \n",
    "    elif marks>=33:\n",
    "        print(\"D grade\")\n",
    "    else:\n",
    "        print(\"fail\")\n",
    "else:\n",
    "    print(\"invalid input\")"
   ]
  },
  {
   "cell_type": "code",
   "execution_count": 43,
   "metadata": {},
   "outputs": [
    {
     "name": "stdout",
     "output_type": "stream",
     "text": [
      "wrong password\n"
     ]
    }
   ],
   "source": [
    "#nested conditions\n",
    "\n",
    "username = input(\"enter the username\")\n",
    "password = input(\"enter the password\")\n",
    "if username!='' and password!='':\n",
    "    if username=='admin':\n",
    "        \n",
    "        if password=='admin':\n",
    "            print(\"welcome user\")\n",
    "        else:\n",
    "            print(\"wrong password\")\n",
    "    else:\n",
    "        print(\"invalid username\")\n",
    "else:\n",
    "    print(\"invalid input\")"
   ]
  },
  {
   "cell_type": "code",
   "execution_count": 48,
   "metadata": {},
   "outputs": [
    {
     "name": "stdout",
     "output_type": "stream",
     "text": [
      "baby\n"
     ]
    }
   ],
   "source": [
    "age=int(input(\"enter the age\"))\n",
    "match age:\n",
    "    case 1|2|3|4|5:\n",
    "        print(\"baby\")\n",
    "    case 10:\n",
    "        print(\"child\")\n",
    "    case 20:\n",
    "        print(\"teenager\")\n",
    "    case 30:\n",
    "        print(\"adult\")"
   ]
  },
  {
   "cell_type": "code",
   "execution_count": null,
   "metadata": {},
   "outputs": [],
   "source": []
  }
 ],
 "metadata": {
  "kernelspec": {
   "display_name": "base",
   "language": "python",
   "name": "python3"
  },
  "language_info": {
   "codemirror_mode": {
    "name": "ipython",
    "version": 3
   },
   "file_extension": ".py",
   "mimetype": "text/x-python",
   "name": "python",
   "nbconvert_exporter": "python",
   "pygments_lexer": "ipython3",
   "version": "3.12.3"
  }
 },
 "nbformat": 4,
 "nbformat_minor": 2
}
