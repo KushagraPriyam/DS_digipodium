{
 "cells": [
  {
   "cell_type": "markdown",
   "metadata": {},
   "source": [
    "### loops\n",
    "- for Loop ->step based loop\n",
    "- while loop ->condition based loop"
   ]
  },
  {
   "cell_type": "code",
   "execution_count": 23,
   "metadata": {},
   "outputs": [
    {
     "name": "stdout",
     "output_type": "stream",
     "text": [
      "0, 10, 20, 30, 40, 50, 60, 70, 80, 90, 100, "
     ]
    }
   ],
   "source": [
    "#for i in range(start,end,step):\n",
    "#......statements\n",
    "\n",
    "for i in range(0,101,10):\n",
    "    print(i,end=', ')"
   ]
  },
  {
   "cell_type": "code",
   "execution_count": 22,
   "metadata": {},
   "outputs": [
    {
     "name": "stdout",
     "output_type": "stream",
     "text": [
      "100, 90, 80, 70, 60, 50, 40, 30, 20, 10, 0, "
     ]
    }
   ],
   "source": [
    "#reverse\n",
    "for i in range(100,-1,-10):  #end,start,-step\n",
    "    print(i,end=', ')"
   ]
  },
  {
   "cell_type": "code",
   "execution_count": 25,
   "metadata": {},
   "outputs": [
    {
     "name": "stdout",
     "output_type": "stream",
     "text": [
      "d, i, g, i, p, o, d, i, u, m, "
     ]
    }
   ],
   "source": [
    "#print each alphabet of the given word\n",
    "word='digipodium'\n",
    "for i in word:\n",
    "    print(i,end=\", \")"
   ]
  },
  {
   "cell_type": "code",
   "execution_count": 32,
   "metadata": {},
   "outputs": [
    {
     "name": "stdout",
     "output_type": "stream",
     "text": [
      "p, y, t, h, o, n, "
     ]
    }
   ],
   "source": [
    "#print only the alphabets of the given word\n",
    "data='p_y+t#h@o!n'\n",
    "for i in data:\n",
    "    if i.isalpha():  #.isalpha() is used to check if value is alphabet\n",
    "        print(i,end=', ')"
   ]
  },
  {
   "cell_type": "code",
   "execution_count": 29,
   "metadata": {},
   "outputs": [
    {
     "name": "stdout",
     "output_type": "stream",
     "text": [
      "-25, -20, -15, -10, -5, 0, 5, 10, 15, 20, 25, "
     ]
    }
   ],
   "source": [
    "#multiply each element of list by 5\n",
    "num=[-5,-4,-3,-2,-1,0,1,2,3,4,5]\n",
    "for i in num:\n",
    "    print(i*5, end=\", \")"
   ]
  },
  {
   "cell_type": "code",
   "execution_count": 31,
   "metadata": {},
   "outputs": [
    {
     "name": "stdout",
     "output_type": "stream",
     "text": [
      "1, 2, 3, 4, 5, "
     ]
    }
   ],
   "source": [
    "#print only +ve number of the list\n",
    "num=[-5,-4,-3,-2,-1,0,1,2,3,4,5]\n",
    "for i in num:\n",
    "    if i>0:   \n",
    "        print(i,end=\", \")"
   ]
  },
  {
   "cell_type": "code",
   "execution_count": 33,
   "metadata": {},
   "outputs": [
    {
     "name": "stdout",
     "output_type": "stream",
     "text": [
      "-4, -2, 0, 2, 4, "
     ]
    }
   ],
   "source": [
    "#print only even numbers of the list\n",
    "num=[-5,-4,-3,-2,-1,0,1,2,3,4,5]\n",
    "for i in num:\n",
    "    if i%2==0:   \n",
    "        print(i,end=\", \")"
   ]
  },
  {
   "cell_type": "code",
   "execution_count": 53,
   "metadata": {},
   "outputs": [
    {
     "name": "stdout",
     "output_type": "stream",
     "text": [
      "Apple\n",
      "Avocado\n",
      "Apricot\n"
     ]
    }
   ],
   "source": [
    "#print elements starting with A\n",
    "fruits=[\"Banana\", \"Apple\", \"Strawberry\", \"Avocado\", \"Pineapple\",\"Orange\", \"Berry\", \"Blueberry\", \n",
    "        \"Cherry\", \"Lemon\", \"Apricot\", \"Figs\",\"Plum\", \"Papaya\", \"Grapefruit\"]\n",
    "for i in fruits:\n",
    "    if i[0] in ['A']:\n",
    "        print(i)"
   ]
  },
  {
   "cell_type": "code",
   "execution_count": 44,
   "metadata": {},
   "outputs": [
    {
     "name": "stdout",
     "output_type": "stream",
     "text": [
      "Banana\n",
      "Apple\n",
      "Strawberry\n",
      "Avocado\n",
      "Pineapple\n",
      "Orange\n",
      "Berry\n",
      "Blueberry\n",
      "Cherry\n",
      "loop completed\n"
     ]
    }
   ],
   "source": [
    "#print fruit names till given fruit name here \"cherry\"\n",
    "for i in fruits:\n",
    "    print(i)\n",
    "    if i==\"Cherry\":\n",
    "        break\n",
    "    \n",
    "print(\"loop completed\")"
   ]
  },
  {
   "cell_type": "code",
   "execution_count": 47,
   "metadata": {},
   "outputs": [
    {
     "name": "stdout",
     "output_type": "stream",
     "text": [
      "170\n"
     ]
    }
   ],
   "source": [
    "#print sum of +ve num in the list\n",
    "num=[120,30,-10,-50,20,-40]\n",
    "sum=0\n",
    "for i in num:\n",
    "    if i>0:\n",
    "        sum+=i\n",
    "print(sum)"
   ]
  },
  {
   "cell_type": "code",
   "execution_count": null,
   "metadata": {},
   "outputs": [],
   "source": []
  }
 ],
 "metadata": {
  "kernelspec": {
   "display_name": "base",
   "language": "python",
   "name": "python3"
  },
  "language_info": {
   "codemirror_mode": {
    "name": "ipython",
    "version": 3
   },
   "file_extension": ".py",
   "mimetype": "text/x-python",
   "name": "python",
   "nbconvert_exporter": "python",
   "pygments_lexer": "ipython3",
   "version": "3.12.3"
  }
 },
 "nbformat": 4,
 "nbformat_minor": 2
}
