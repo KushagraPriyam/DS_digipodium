{
 "cells": [
  {
   "cell_type": "markdown",
   "metadata": {},
   "source": [
    "### loops\n",
    "- for Loop ->step based loop\n",
    "- while loop ->condition based loop"
   ]
  },
  {
   "cell_type": "code",
   "execution_count": 23,
   "metadata": {},
   "outputs": [
    {
     "name": "stdout",
     "output_type": "stream",
     "text": [
      "0, 10, 20, 30, 40, 50, 60, 70, 80, 90, 100, "
     ]
    }
   ],
   "source": [
    "#for i in range(start,end,step):\n",
    "#......statements\n",
    "\n",
    "for i in range(0,101,10):\n",
    "    print(i,end=', ')"
   ]
  },
  {
   "cell_type": "code",
   "execution_count": 22,
   "metadata": {},
   "outputs": [
    {
     "name": "stdout",
     "output_type": "stream",
     "text": [
      "100, 90, 80, 70, 60, 50, 40, 30, 20, 10, 0, "
     ]
    }
   ],
   "source": [
    "#reverse\n",
    "for i in range(100,-1,-10):  #end,start,-step\n",
    "    print(i,end=', ')"
   ]
  },
  {
   "cell_type": "code",
   "execution_count": 25,
   "metadata": {},
   "outputs": [
    {
     "name": "stdout",
     "output_type": "stream",
     "text": [
      "d, i, g, i, p, o, d, i, u, m, "
     ]
    }
   ],
   "source": [
    "#print each alphabet of the given word\n",
    "word='digipodium'\n",
    "for i in word:\n",
    "    print(i,end=\", \")"
   ]
  },
  {
   "cell_type": "code",
   "execution_count": 32,
   "metadata": {},
   "outputs": [
    {
     "name": "stdout",
     "output_type": "stream",
     "text": [
      "p, y, t, h, o, n, "
     ]
    }
   ],
   "source": [
    "#print only the alphabets of the given word\n",
    "data='p_y+t#h@o!n'\n",
    "for i in data:\n",
    "    if i.isalpha():  #.isalpha() is used to check if value is alphabet\n",
    "        print(i,end=', ')"
   ]
  },
  {
   "cell_type": "code",
   "execution_count": 29,
   "metadata": {},
   "outputs": [
    {
     "name": "stdout",
     "output_type": "stream",
     "text": [
      "-25, -20, -15, -10, -5, 0, 5, 10, 15, 20, 25, "
     ]
    }
   ],
   "source": [
    "#multiply each element of list by 5\n",
    "num=[-5,-4,-3,-2,-1,0,1,2,3,4,5]\n",
    "for i in num:\n",
    "    print(i*5, end=\", \")"
   ]
  },
  {
   "cell_type": "code",
   "execution_count": 31,
   "metadata": {},
   "outputs": [
    {
     "name": "stdout",
     "output_type": "stream",
     "text": [
      "1, 2, 3, 4, 5, "
     ]
    }
   ],
   "source": [
    "#print only +ve number of the list\n",
    "num=[-5,-4,-3,-2,-1,0,1,2,3,4,5]\n",
    "for i in num:\n",
    "    if i>0:   \n",
    "        print(i,end=\", \")"
   ]
  },
  {
   "cell_type": "code",
   "execution_count": 33,
   "metadata": {},
   "outputs": [
    {
     "name": "stdout",
     "output_type": "stream",
     "text": [
      "-4, -2, 0, 2, 4, "
     ]
    }
   ],
   "source": [
    "#print only even numbers of the list\n",
    "num=[-5,-4,-3,-2,-1,0,1,2,3,4,5]\n",
    "for i in num:\n",
    "    if i%2==0:   \n",
    "        print(i,end=\", \")"
   ]
  },
  {
   "cell_type": "code",
   "execution_count": 53,
   "metadata": {},
   "outputs": [
    {
     "name": "stdout",
     "output_type": "stream",
     "text": [
      "Apple\n",
      "Avocado\n",
      "Apricot\n"
     ]
    }
   ],
   "source": [
    "#print elements starting with A\n",
    "fruits=[\"Banana\", \"Apple\", \"Strawberry\", \"Avocado\", \"Pineapple\",\"Orange\", \"Berry\", \"Blueberry\", \n",
    "        \"Cherry\", \"Lemon\", \"Apricot\", \"Figs\",\"Plum\", \"Papaya\", \"Grapefruit\"]\n",
    "for i in fruits:\n",
    "    if i[0] in ['A']:\n",
    "        print(i)"
   ]
  },
  {
   "cell_type": "code",
   "execution_count": 44,
   "metadata": {},
   "outputs": [
    {
     "name": "stdout",
     "output_type": "stream",
     "text": [
      "Banana\n",
      "Apple\n",
      "Strawberry\n",
      "Avocado\n",
      "Pineapple\n",
      "Orange\n",
      "Berry\n",
      "Blueberry\n",
      "Cherry\n",
      "loop completed\n"
     ]
    }
   ],
   "source": [
    "#print fruit names till given fruit name here \"cherry\"\n",
    "for i in fruits:\n",
    "    print(i)\n",
    "    if i==\"Cherry\":\n",
    "        break\n",
    "    \n",
    "print(\"loop completed\")"
   ]
  },
  {
   "cell_type": "code",
   "execution_count": 47,
   "metadata": {},
   "outputs": [
    {
     "name": "stdout",
     "output_type": "stream",
     "text": [
      "170\n"
     ]
    }
   ],
   "source": [
    "#print sum of +ve num in the list\n",
    "num=[120,30,-10,-50,20,-40]\n",
    "sum=0\n",
    "for i in num:\n",
    "    if i>0:\n",
    "        sum+=i\n",
    "print(sum)"
   ]
  },
  {
   "cell_type": "code",
   "execution_count": 1,
   "metadata": {},
   "outputs": [
    {
     "name": "stdout",
     "output_type": "stream",
     "text": [
      "hi\n"
     ]
    }
   ],
   "source": [
    "print(\"hi\")"
   ]
  },
  {
   "cell_type": "code",
   "execution_count": 4,
   "metadata": {},
   "outputs": [
    {
     "name": "stdout",
     "output_type": "stream",
     "text": [
      "0 0\n",
      "1 0\n",
      "2 0\n",
      "3 0\n",
      "4 0\n",
      "5 0\n",
      "6 0\n",
      "7 0\n",
      "8 0\n",
      "9 0\n"
     ]
    }
   ],
   "source": [
    "for i in range(5):\n",
    "    for j in range(1):\n",
    "        print(i,j)"
   ]
  },
  {
   "cell_type": "code",
   "execution_count": 5,
   "metadata": {},
   "outputs": [
    {
     "name": "stdout",
     "output_type": "stream",
     "text": [
      "alex\n",
      "leo\n",
      "ella\n",
      "shane\n",
      "steve\n"
     ]
    }
   ],
   "source": [
    "names=['alex','leo','ella','shane','steve']\n",
    "for i in names:\n",
    "    print(i)"
   ]
  },
  {
   "cell_type": "code",
   "execution_count": 10,
   "metadata": {},
   "outputs": [
    {
     "name": "stdout",
     "output_type": "stream",
     "text": [
      "0 alex\n",
      "1 leo\n",
      "2 ella\n",
      "3 shane\n",
      "4 steve\n"
     ]
    }
   ],
   "source": [
    "#enumerate funtion\n",
    "for i,v in enumerate(names):\n",
    "    print(i,v)  # print i,v i.e. index and values "
   ]
  },
  {
   "cell_type": "code",
   "execution_count": 17,
   "metadata": {},
   "outputs": [
    {
     "name": "stdout",
     "output_type": "stream",
     "text": [
      "alex\n",
      "leo\n",
      "ella\n",
      "shane\n"
     ]
    }
   ],
   "source": [
    "for i in names:\n",
    "    print(i)\n",
    "    if i==names[3]:\n",
    "        \n",
    "        break\n",
    "    "
   ]
  },
  {
   "cell_type": "code",
   "execution_count": 18,
   "metadata": {},
   "outputs": [
    {
     "name": "stdout",
     "output_type": "stream",
     "text": [
      "alex\n",
      "leo\n",
      "ella\n"
     ]
    }
   ],
   "source": [
    "#print 3 values of list\n",
    "for i,v in enumerate(names):\n",
    "    if i==3:\n",
    "        break\n",
    "    print(v)"
   ]
  },
  {
   "cell_type": "code",
   "execution_count": 28,
   "metadata": {},
   "outputs": [
    {
     "name": "stdout",
     "output_type": "stream",
     "text": [
      "alex\n",
      "ella\n",
      "steve\n"
     ]
    }
   ],
   "source": [
    "#print value at even index\n",
    "for i,v in enumerate(names):\n",
    "    if i%2==0:\n",
    "        print(v)"
   ]
  },
  {
   "cell_type": "code",
   "execution_count": 37,
   "metadata": {},
   "outputs": [
    {
     "name": "stdout",
     "output_type": "stream",
     "text": [
      "1+6=7\n",
      "2+7=9\n",
      "3+8=11\n",
      "4+9=13\n",
      "5+10=15\n"
     ]
    }
   ],
   "source": [
    "#zip function returns each element of both list\n",
    "x=[1,2,3,4,5]\n",
    "y=[6,7,8,9,10]\n",
    "\n",
    "for i,j in zip(x,y):\n",
    "    print(f'{i}+{j}={i+j}')"
   ]
  },
  {
   "cell_type": "code",
   "execution_count": 38,
   "metadata": {},
   "outputs": [
    {
     "name": "stdout",
     "output_type": "stream",
     "text": [
      "1+6+1=8\n",
      "2+7+1=10\n",
      "3+8+1=12\n",
      "4+9+1=14\n",
      "5+10+1=16\n"
     ]
    }
   ],
   "source": [
    "x=[1,2,3,4,5]\n",
    "y=[6,7,8,9,10]\n",
    "z=[1,1,1,1,1]\n",
    "\n",
    "for i,j,k in zip(x,y,z):\n",
    "    print(f'{i}+{j}+{k}={i+j+k}')"
   ]
  },
  {
   "cell_type": "code",
   "execution_count": 88,
   "metadata": {},
   "outputs": [
    {
     "name": "stdout",
     "output_type": "stream",
     "text": [
      "appl      |   100    | 3 |  300\n",
      "banana    |   200    | 2 |  400\n",
      "cherry    |   300    | 5 | 1500\n",
      "________________________________\n",
      "total                      2200\n"
     ]
    }
   ],
   "source": [
    "name=[\"appl\",\"banana\",\"cherry\"]\n",
    "cost=[100,200,300]\n",
    "qty=[3,2,5]\n",
    "total=0\n",
    "for n,p,q in zip(name,cost,qty):\n",
    "    print(f'{n:10}|{p:^10}|{q:^3}|{p*q:>5}')\n",
    "    total+=(p*q)\n",
    "print('_'*32)\n",
    "print(f'total{total:26}')"
   ]
  },
  {
   "cell_type": "code",
   "execution_count": 86,
   "metadata": {},
   "outputs": [
    {
     "name": "stdout",
     "output_type": "stream",
     "text": [
      "2\n",
      "3\n",
      "5\n",
      "7\n",
      "11\n",
      "13\n",
      "17\n",
      "19\n",
      "23\n",
      "29\n"
     ]
    }
   ],
   "source": [
    "#print prime number in a given range\n",
    "n=int(input(\"enter the number\"))\n",
    "for i in range(2,n):\n",
    "    for j in range(2,i):\n",
    "        if i%j==0:\n",
    "            break\n",
    "    else:\n",
    "        print(i)"
   ]
  },
  {
   "cell_type": "code",
   "execution_count": 71,
   "metadata": {},
   "outputs": [
    {
     "name": "stdout",
     "output_type": "stream",
     "text": [
      "1\n",
      "2\n",
      "3\n",
      "4\n",
      "loop terminated\n"
     ]
    }
   ],
   "source": [
    "n=int(input(\"enter number\"))\n",
    "for i in range(1,11):\n",
    "    if i==n:\n",
    "        print(\"loop terminated\")\n",
    "        break\n",
    "    print(i)\n",
    "else:\n",
    "    print(\"well done\")"
   ]
  },
  {
   "cell_type": "code",
   "execution_count": 79,
   "metadata": {},
   "outputs": [
    {
     "name": "stdout",
     "output_type": "stream",
     "text": [
      "prime\n"
     ]
    }
   ],
   "source": [
    "n=int(input(\"enter a number\"))\n",
    "count=0\n",
    "for i in range(2,n//2):\n",
    "    if n%i==0:\n",
    "        print(\"not prime\")\n",
    "        break\n",
    "else:\n",
    "    print(\"prime\")"
   ]
  },
  {
   "cell_type": "code",
   "execution_count": 1,
   "metadata": {},
   "outputs": [
    {
     "name": "stdout",
     "output_type": "stream",
     "text": [
      "200\n",
      "175\n",
      "150\n",
      "125\n",
      "100\n",
      "75\n",
      "50\n",
      "25\n"
     ]
    }
   ],
   "source": [
    "#while loop\n",
    "i=200\n",
    "while i>0:\n",
    "    print(i)\n",
    "    i-=25"
   ]
  },
  {
   "cell_type": "code",
   "execution_count": null,
   "metadata": {},
   "outputs": [],
   "source": []
  }
 ],
 "metadata": {
  "kernelspec": {
   "display_name": "base",
   "language": "python",
   "name": "python3"
  },
  "language_info": {
   "codemirror_mode": {
    "name": "ipython",
    "version": 3
   },
   "file_extension": ".py",
   "mimetype": "text/x-python",
   "name": "python",
   "nbconvert_exporter": "python",
   "pygments_lexer": "ipython3",
   "version": "3.12.3"
  }
 },
 "nbformat": 4,
 "nbformat_minor": 2
}
