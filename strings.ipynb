{
 "cells": [
  {
   "cell_type": "markdown",
   "metadata": {},
   "source": [
    "### strings\n",
    "- creation\n",
    "- indexing and slicing\n",
    "- methods"
   ]
  },
  {
   "cell_type": "code",
   "execution_count": 3,
   "metadata": {},
   "outputs": [
    {
     "name": "stdout",
     "output_type": "stream",
     "text": [
      "<class 'str'>\n"
     ]
    }
   ],
   "source": [
    "#single quoted string\n",
    "a='apple'\n",
    "print(type(a))"
   ]
  },
  {
   "cell_type": "code",
   "execution_count": 4,
   "metadata": {},
   "outputs": [
    {
     "name": "stdout",
     "output_type": "stream",
     "text": [
      "<class 'str'>\n"
     ]
    }
   ],
   "source": [
    "#double quoted string\n",
    "b=\"banana\"\n",
    "print(type(b))"
   ]
  },
  {
   "cell_type": "code",
   "execution_count": 6,
   "metadata": {},
   "outputs": [
    {
     "name": "stdout",
     "output_type": "stream",
     "text": [
      "<class 'str'>\n"
     ]
    }
   ],
   "source": [
    "#triple quoted sting\n",
    "c='''this is \n",
    "a string'''\n",
    "print(type(c))"
   ]
  },
  {
   "cell_type": "code",
   "execution_count": 8,
   "metadata": {},
   "outputs": [
    {
     "name": "stdout",
     "output_type": "stream",
     "text": [
      "<class 'str'>\n"
     ]
    }
   ],
   "source": [
    "# using str() funtion\n",
    "d=str(123232)\n",
    "print(type(d))"
   ]
  },
  {
   "cell_type": "markdown",
   "metadata": {},
   "source": [
    "#### types of string\n",
    "- byte b'hello'\n",
    "- raw r'hello'\n",
    "- format f'hello{a}'"
   ]
  },
  {
   "cell_type": "code",
   "execution_count": 12,
   "metadata": {},
   "outputs": [
    {
     "name": "stdout",
     "output_type": "stream",
     "text": [
      "b'this is byte string'\n",
      "this is a \\n\\n\\n raw string\n",
      "apple is the length of a string\n"
     ]
    }
   ],
   "source": [
    "#examples\n",
    "print(b'this is byte string')\n",
    "print(r'this is a \\n\\n\\n raw string')\n",
    "print(f'{a} is the length of a string')\n"
   ]
  },
  {
   "cell_type": "markdown",
   "metadata": {},
   "source": [
    "#### Indexing\n",
    "    -5  -4  -3  -2  -1\n",
    "     a   p   p   l   e\n",
    "     0   1   2   3   4"
   ]
  },
  {
   "cell_type": "code",
   "execution_count": 14,
   "metadata": {},
   "outputs": [
    {
     "name": "stdout",
     "output_type": "stream",
     "text": [
      "g\n",
      "r\n",
      "e\n",
      "e\n",
      "k\n"
     ]
    }
   ],
   "source": [
    "word='greek'\n",
    "print(word[0])\n",
    "print(word[1])\n",
    "print(word[2])\n",
    "print(word[-2])\n",
    "print(word[-1])"
   ]
  },
  {
   "cell_type": "code",
   "execution_count": 15,
   "metadata": {},
   "outputs": [
    {
     "name": "stdout",
     "output_type": "stream",
     "text": [
      "n\n",
      "d\n"
     ]
    }
   ],
   "source": [
    "msg='journey before destination'\n",
    "print(msg[-6])\n",
    "print(msg[15])"
   ]
  },
  {
   "cell_type": "markdown",
   "metadata": {},
   "source": [
    "#### Slicing \n",
    "    sequence[start : stop : step]"
   ]
  },
  {
   "cell_type": "code",
   "execution_count": 18,
   "metadata": {},
   "outputs": [
    {
     "data": {
      "text/plain": [
       "'before'"
      ]
     },
     "execution_count": 18,
     "metadata": {},
     "output_type": "execute_result"
    }
   ],
   "source": [
    "msg[8:14]"
   ]
  },
  {
   "cell_type": "code",
   "execution_count": 21,
   "metadata": {},
   "outputs": [
    {
     "data": {
      "text/plain": [
       "'dsiain'"
      ]
     },
     "execution_count": 21,
     "metadata": {},
     "output_type": "execute_result"
    }
   ],
   "source": [
    "msg[15::2]"
   ]
  },
  {
   "cell_type": "code",
   "execution_count": 26,
   "metadata": {},
   "outputs": [
    {
     "name": "stdout",
     "output_type": "stream",
     "text": [
      "vijay\n",
      "deenanath\n",
      "chauhan\n"
     ]
    }
   ],
   "source": [
    "name=\"vijay deenanath chauhan\"\n",
    "fname=name[:5]\n",
    "mname=name[6:15]\n",
    "lname=name[16:]\n",
    "print(fname)\n",
    "print(mname)\n",
    "print(lname)"
   ]
  },
  {
   "cell_type": "code",
   "execution_count": 27,
   "metadata": {},
   "outputs": [
    {
     "name": "stdout",
     "output_type": "stream",
     "text": [
      "nahuahc htananeed yajiv\n"
     ]
    }
   ],
   "source": [
    "#reverse\n",
    "print(name[::-1])"
   ]
  },
  {
   "cell_type": "code",
   "execution_count": 31,
   "metadata": {},
   "outputs": [
    {
     "name": "stdout",
     "output_type": "stream",
     "text": [
      "convert it into float\n",
      "5599.25\n"
     ]
    }
   ],
   "source": [
    "x='$5599.25 only'\n",
    "print(\"convert it into float\")\n",
    "print(float(x[1:-5]))\n"
   ]
  },
  {
   "cell_type": "markdown",
   "metadata": {},
   "source": [
    "#### string methods\n",
    "- formatting\n",
    "    -upper()\n",
    "    -lower()\n",
    "    -capatalise()\n",
    "    -title()\n",
    "    -swapcase()\n",
    "    -casefold()\n",
    "    -centre()\n",
    "    -ljust()\n",
    "    -rjust()"
   ]
  },
  {
   "cell_type": "code",
   "execution_count": 50,
   "metadata": {},
   "outputs": [
    {
     "name": "stdout",
     "output_type": "stream",
     "text": [
      "LIFE IS BEAUTIFUL\n",
      "life is beautiful\n",
      "Life is beautiful\n",
      "Life Is Beautiful\n",
      "lIFE IS bEAUTIFUL\n",
      "life is beautiful\n"
     ]
    }
   ],
   "source": [
    "msg=\"Life is Beautiful\"\n",
    "print(msg.upper())      #change each string to uppercase\n",
    "print(msg.lower())      #change each string to lowercase\n",
    "print(msg.capitalize()) #change first letter of first word to uppercase\n",
    "print(msg.title())      #change first letter of each word to uppecase\n",
    "print(msg.swapcase())   #swap cases of given string\n",
    "print(msg.casefold())   #just like lower"
   ]
  },
  {
   "cell_type": "code",
   "execution_count": 57,
   "metadata": {},
   "outputs": [
    {
     "name": "stdout",
     "output_type": "stream",
     "text": [
      "Life is Beautiful                                 \n",
      "*********************************Life is Beautiful\n",
      "****************Life is Beautiful*****************\n"
     ]
    }
   ],
   "source": [
    "print((msg.ljust(50,' ')))    #shift string to left and fill remaing spaces with * total space is 50\n",
    "print(msg.rjust(50,'*')) \n",
    "print(msg.center(50,'*')) "
   ]
  },
  {
   "cell_type": "markdown",
   "metadata": {},
   "source": [
    "#### validation method\n",
    "    - isalpha()\n",
    "    - isalnum()\n",
    "    -isnumeric()\n",
    "    -isdigit()\n",
    "    -isspace()\n",
    "    -isascii()\n",
    "    -isprintable()\n",
    "    -islower()\n",
    "    -isupper()"
   ]
  },
  {
   "cell_type": "code",
   "execution_count": 69,
   "metadata": {},
   "outputs": [
    {
     "name": "stdout",
     "output_type": "stream",
     "text": [
      "True\n",
      "True\n"
     ]
    }
   ],
   "source": [
    "data='34242324'\n",
    "print(data.isnumeric())\n",
    "print(data.isdigit())\n"
   ]
  },
  {
   "cell_type": "code",
   "execution_count": 68,
   "metadata": {},
   "outputs": [
    {
     "name": "stdout",
     "output_type": "stream",
     "text": [
      "0=\u0000, True\n",
      "5=\u0005, True\n",
      "10=\n",
      ", True\n",
      "15=\u000f, True\n",
      "20=\u0014, True\n",
      "25=\u0019, True\n",
      "30=\u001e, True\n",
      "35=#, True\n",
      "40=(, True\n",
      "45=-, True\n",
      "50=2, True\n",
      "55=7, True\n",
      "60=<, True\n",
      "65=A, True\n",
      "70=F, True\n",
      "75=K, True\n",
      "80=P, True\n",
      "85=U, True\n",
      "90=Z, True\n",
      "95=_, True\n",
      "100=d, True\n",
      "105=i, True\n",
      "110=n, True\n",
      "115=s, True\n",
      "120=x, True\n",
      "125=}, True\n",
      "130=, False\n",
      "135=, False\n",
      "140=, False\n",
      "145=, False\n",
      "150=, False\n",
      "155=, False\n",
      "160= , False\n",
      "165=¥, False\n",
      "170=ª, False\n",
      "175=¯, False\n",
      "180=´, False\n",
      "185=¹, False\n",
      "190=¾, False\n",
      "195=Ã, False\n",
      "200=È, False\n",
      "205=Í, False\n",
      "210=Ò, False\n",
      "215=×, False\n",
      "220=Ü, False\n",
      "225=á, False\n",
      "230=æ, False\n",
      "235=ë, False\n",
      "240=ð, False\n",
      "245=õ, False\n",
      "250=ú, False\n",
      "255=ÿ, False\n",
      "260=Ą, False\n",
      "265=ĉ, False\n",
      "270=Ď, False\n",
      "275=ē, False\n"
     ]
    }
   ],
   "source": [
    "for i in range(0,280,5):\n",
    "    c=chr(i)\n",
    "    print(f'{i}={c}, {c.isascii()}')"
   ]
  },
  {
   "cell_type": "code",
   "execution_count": null,
   "metadata": {},
   "outputs": [],
   "source": []
  }
 ],
 "metadata": {
  "kernelspec": {
   "display_name": "base",
   "language": "python",
   "name": "python3"
  },
  "language_info": {
   "codemirror_mode": {
    "name": "ipython",
    "version": 3
   },
   "file_extension": ".py",
   "mimetype": "text/x-python",
   "name": "python",
   "nbconvert_exporter": "python",
   "pygments_lexer": "ipython3",
   "version": "3.12.3"
  }
 },
 "nbformat": 4,
 "nbformat_minor": 2
}
